{
 "metadata": {
  "language_info": {
   "codemirror_mode": {
    "name": "ipython",
    "version": 3
   },
   "file_extension": ".py",
   "mimetype": "text/x-python",
   "name": "python",
   "nbconvert_exporter": "python",
   "pygments_lexer": "ipython3",
   "version": "3.8.6-final"
  },
  "orig_nbformat": 2,
  "kernelspec": {
   "name": "python3",
   "display_name": "Python 3",
   "language": "python"
  }
 },
 "nbformat": 4,
 "nbformat_minor": 2,
 "cells": [
  {
   "cell_type": "code",
   "execution_count": 2,
   "metadata": {},
   "outputs": [],
   "source": [
    "%config IPCompleter.use_jedi = False"
   ]
  },
  {
   "cell_type": "code",
   "execution_count": 1,
   "metadata": {},
   "outputs": [],
   "source": [
    "import pandas as pd"
   ]
  },
  {
   "cell_type": "code",
   "execution_count": 14,
   "metadata": {},
   "outputs": [
    {
     "output_type": "execute_result",
     "data": {
      "text/plain": [
       "              id                                                url  \\\n",
       "0              1            https://markalanwilliams.libsyn.com/rss   \n",
       "1              2           https://anchor.fm/s/19ccb320/podcast/rss   \n",
       "2              3                 http://www.snec.org.uk/site/itunes   \n",
       "3              4  http://feeds.soundcloud.com/users/soundcloud:u...   \n",
       "4              5         https://audioboom.com/channels/4597972.rss   \n",
       "...          ...                                                ...   \n",
       "1375334  1375456         https://feeds.captivate.fm/how-to-manager/   \n",
       "1375335  1375457           https://feeds.buzzsprout.com/1661431.rss   \n",
       "1375336  1375458  https://feeds.captivate.fm/the-huemanity-stand...   \n",
       "1375337  1375459           https://feeds.buzzsprout.com/1640590.rss   \n",
       "1375338  1375460           https://feeds.buzzsprout.com/1658281.rss   \n",
       "\n",
       "            itunes_id                                       original_url  \\\n",
       "0        1.000001e+09            https://markalanwilliams.libsyn.com/rss   \n",
       "1        1.000016e+09           https://anchor.fm/s/19ccb320/podcast/rss   \n",
       "2        1.000017e+09                 http://www.snec.org.uk/site/itunes   \n",
       "3        1.000036e+09  http://feeds.soundcloud.com/users/soundcloud:u...   \n",
       "4        1.000036e+09         https://audioboom.com/channels/4597972.rss   \n",
       "...               ...                                                ...   \n",
       "1375334           NaN          https://feeds.captivate.fm/how-to-manager   \n",
       "1375335           NaN           https://feeds.buzzsprout.com/1661431.rss   \n",
       "1375336           NaN  https://feeds.captivate.fm/the-huemanity-standard   \n",
       "1375337           NaN           https://feeds.buzzsprout.com/1640590.rss   \n",
       "1375338           NaN           https://feeds.buzzsprout.com/1658281.rss   \n",
       "\n",
       "        newest_item_pubdate oldest_item_pubdate language  \n",
       "0       2021-01-09 21:13:35 2015-05-28 18:25:32       en  \n",
       "1       2021-01-08 23:47:52 2015-05-31 03:00:00       en  \n",
       "2       2020-03-15 18:30:00 2019-03-31 18:30:00    en-gb  \n",
       "3       2015-05-29 21:33:14 2015-05-22 23:33:24       en  \n",
       "4       2016-05-10 22:33:14 2015-04-08 22:26:52       es  \n",
       "...                     ...                 ...      ...  \n",
       "1375334 2021-02-01 22:36:00 2021-02-01 22:36:00       en  \n",
       "1375335 2021-01-31 18:20:34 2021-01-18 00:16:41       en  \n",
       "1375336 2021-02-01 23:00:00 2021-02-01 23:00:00       en  \n",
       "1375337 2021-01-14 22:51:09 2021-01-14 22:51:09       en  \n",
       "1375338 2021-02-01 16:00:00 2021-02-01 16:00:00    en-us  \n",
       "\n",
       "[1375339 rows x 7 columns]"
      ],
      "text/html": "<div>\n<style scoped>\n    .dataframe tbody tr th:only-of-type {\n        vertical-align: middle;\n    }\n\n    .dataframe tbody tr th {\n        vertical-align: top;\n    }\n\n    .dataframe thead th {\n        text-align: right;\n    }\n</style>\n<table border=\"1\" class=\"dataframe\">\n  <thead>\n    <tr style=\"text-align: right;\">\n      <th></th>\n      <th>id</th>\n      <th>url</th>\n      <th>itunes_id</th>\n      <th>original_url</th>\n      <th>newest_item_pubdate</th>\n      <th>oldest_item_pubdate</th>\n      <th>language</th>\n    </tr>\n  </thead>\n  <tbody>\n    <tr>\n      <th>0</th>\n      <td>1</td>\n      <td>https://markalanwilliams.libsyn.com/rss</td>\n      <td>1.000001e+09</td>\n      <td>https://markalanwilliams.libsyn.com/rss</td>\n      <td>2021-01-09 21:13:35</td>\n      <td>2015-05-28 18:25:32</td>\n      <td>en</td>\n    </tr>\n    <tr>\n      <th>1</th>\n      <td>2</td>\n      <td>https://anchor.fm/s/19ccb320/podcast/rss</td>\n      <td>1.000016e+09</td>\n      <td>https://anchor.fm/s/19ccb320/podcast/rss</td>\n      <td>2021-01-08 23:47:52</td>\n      <td>2015-05-31 03:00:00</td>\n      <td>en</td>\n    </tr>\n    <tr>\n      <th>2</th>\n      <td>3</td>\n      <td>http://www.snec.org.uk/site/itunes</td>\n      <td>1.000017e+09</td>\n      <td>http://www.snec.org.uk/site/itunes</td>\n      <td>2020-03-15 18:30:00</td>\n      <td>2019-03-31 18:30:00</td>\n      <td>en-gb</td>\n    </tr>\n    <tr>\n      <th>3</th>\n      <td>4</td>\n      <td>http://feeds.soundcloud.com/users/soundcloud:u...</td>\n      <td>1.000036e+09</td>\n      <td>http://feeds.soundcloud.com/users/soundcloud:u...</td>\n      <td>2015-05-29 21:33:14</td>\n      <td>2015-05-22 23:33:24</td>\n      <td>en</td>\n    </tr>\n    <tr>\n      <th>4</th>\n      <td>5</td>\n      <td>https://audioboom.com/channels/4597972.rss</td>\n      <td>1.000036e+09</td>\n      <td>https://audioboom.com/channels/4597972.rss</td>\n      <td>2016-05-10 22:33:14</td>\n      <td>2015-04-08 22:26:52</td>\n      <td>es</td>\n    </tr>\n    <tr>\n      <th>...</th>\n      <td>...</td>\n      <td>...</td>\n      <td>...</td>\n      <td>...</td>\n      <td>...</td>\n      <td>...</td>\n      <td>...</td>\n    </tr>\n    <tr>\n      <th>1375334</th>\n      <td>1375456</td>\n      <td>https://feeds.captivate.fm/how-to-manager/</td>\n      <td>NaN</td>\n      <td>https://feeds.captivate.fm/how-to-manager</td>\n      <td>2021-02-01 22:36:00</td>\n      <td>2021-02-01 22:36:00</td>\n      <td>en</td>\n    </tr>\n    <tr>\n      <th>1375335</th>\n      <td>1375457</td>\n      <td>https://feeds.buzzsprout.com/1661431.rss</td>\n      <td>NaN</td>\n      <td>https://feeds.buzzsprout.com/1661431.rss</td>\n      <td>2021-01-31 18:20:34</td>\n      <td>2021-01-18 00:16:41</td>\n      <td>en</td>\n    </tr>\n    <tr>\n      <th>1375336</th>\n      <td>1375458</td>\n      <td>https://feeds.captivate.fm/the-huemanity-stand...</td>\n      <td>NaN</td>\n      <td>https://feeds.captivate.fm/the-huemanity-standard</td>\n      <td>2021-02-01 23:00:00</td>\n      <td>2021-02-01 23:00:00</td>\n      <td>en</td>\n    </tr>\n    <tr>\n      <th>1375337</th>\n      <td>1375459</td>\n      <td>https://feeds.buzzsprout.com/1640590.rss</td>\n      <td>NaN</td>\n      <td>https://feeds.buzzsprout.com/1640590.rss</td>\n      <td>2021-01-14 22:51:09</td>\n      <td>2021-01-14 22:51:09</td>\n      <td>en</td>\n    </tr>\n    <tr>\n      <th>1375338</th>\n      <td>1375460</td>\n      <td>https://feeds.buzzsprout.com/1658281.rss</td>\n      <td>NaN</td>\n      <td>https://feeds.buzzsprout.com/1658281.rss</td>\n      <td>2021-02-01 16:00:00</td>\n      <td>2021-02-01 16:00:00</td>\n      <td>en-us</td>\n    </tr>\n  </tbody>\n</table>\n<p>1375339 rows × 7 columns</p>\n</div>"
     },
     "metadata": {},
     "execution_count": 14
    }
   ],
   "source": [
    "df = pd.read_csv('/Users/gbishko/Downloads/podcasts-2021-02-01.csv')\n",
    "df['newest_item_pubdate'] = pd.to_datetime(df['newest_item_pubdate'],unit='s')\n",
    "df['oldest_item_pubdate'] = pd.to_datetime(df['oldest_item_pubdate'],unit='s')\n",
    "df"
   ]
  },
  {
   "cell_type": "code",
   "execution_count": 27,
   "metadata": {},
   "outputs": [
    {
     "output_type": "execute_result",
     "data": {
      "text/plain": [
       "Empty DataFrame\n",
       "Columns: [id, url, itunes_id, original_url, newest_item_pubdate, oldest_item_pubdate, language]\n",
       "Index: []"
      ],
      "text/html": "<div>\n<style scoped>\n    .dataframe tbody tr th:only-of-type {\n        vertical-align: middle;\n    }\n\n    .dataframe tbody tr th {\n        vertical-align: top;\n    }\n\n    .dataframe thead th {\n        text-align: right;\n    }\n</style>\n<table border=\"1\" class=\"dataframe\">\n  <thead>\n    <tr style=\"text-align: right;\">\n      <th></th>\n      <th>id</th>\n      <th>url</th>\n      <th>itunes_id</th>\n      <th>original_url</th>\n      <th>newest_item_pubdate</th>\n      <th>oldest_item_pubdate</th>\n      <th>language</th>\n    </tr>\n  </thead>\n  <tbody>\n  </tbody>\n</table>\n</div>"
     },
     "metadata": {},
     "execution_count": 27
    }
   ],
   "source": [
    "df[df.url.str.contains('curry.com',case=False)]"
   ]
  },
  {
   "cell_type": "code",
   "execution_count": 28,
   "metadata": {},
   "outputs": [
    {
     "output_type": "execute_result",
     "data": {
      "text/plain": [
       "              id                                                url  \\\n",
       "9             10  https://sportsfromherperspective.podomatic.com...   \n",
       "12            13    https://nocturniarecords.podomatic.com/rss2.xml   \n",
       "19            20     https://hillaryandjason.podomatic.com/rss2.xml   \n",
       "22            23  https://www.corechurchtampa.com/messages?forma...   \n",
       "25            26         https://lutheryoung.podomatic.com/rss2.xml   \n",
       "...          ...                                                ...   \n",
       "1375308  1375430           https://feeds.captivate.fm/bounty-board/   \n",
       "1375309  1375431         https://feeds.captivate.fm/the-brothers-f/   \n",
       "1375313  1375435              https://feeds.captivate.fm/heyolesya/   \n",
       "1375334  1375456         https://feeds.captivate.fm/how-to-manager/   \n",
       "1375336  1375458  https://feeds.captivate.fm/the-huemanity-stand...   \n",
       "\n",
       "            itunes_id                                       original_url  \\\n",
       "9        1.000083e+09  http://sportsfromherperspective.podomatic.com/...   \n",
       "12                NaN     http://nocturniarecords.podomatic.com/rss2.xml   \n",
       "19                NaN      http://hillaryandjason.podomatic.com/rss2.xml   \n",
       "22                NaN     http://corechurchtampa.com/corechurchtampa.rss   \n",
       "25       1.000119e+09          http://lutheryoung.podomatic.com/rss2.xml   \n",
       "...               ...                                                ...   \n",
       "1375308           NaN            https://feeds.captivate.fm/bounty-board   \n",
       "1375309           NaN          https://feeds.captivate.fm/the-brothers-f   \n",
       "1375313           NaN               https://feeds.captivate.fm/heyolesya   \n",
       "1375334           NaN          https://feeds.captivate.fm/how-to-manager   \n",
       "1375336           NaN  https://feeds.captivate.fm/the-huemanity-standard   \n",
       "\n",
       "        newest_item_pubdate oldest_item_pubdate language  \n",
       "9       2020-09-29 02:51:04 2015-05-27 03:42:29    en-us  \n",
       "12      2015-07-02 10:49:12 2015-06-02 21:05:44    en-us  \n",
       "19      2015-08-21 04:07:46 2015-05-29 03:38:16    en-us  \n",
       "22      2020-08-24 20:15:46 2020-08-03 00:33:00       en  \n",
       "25      2015-05-30 04:19:53 2015-05-30 04:19:53    en-us  \n",
       "...                     ...                 ...      ...  \n",
       "1375308 2021-01-30 19:00:00 2017-06-08 22:00:00       en  \n",
       "1375309 2021-02-01 08:00:00 2021-02-01 08:00:00       en  \n",
       "1375313 2021-02-01 20:25:00 2021-02-01 20:25:00       en  \n",
       "1375334 2021-02-01 22:36:00 2021-02-01 22:36:00       en  \n",
       "1375336 2021-02-01 23:00:00 2021-02-01 23:00:00       en  \n",
       "\n",
       "[45669 rows x 7 columns]"
      ],
      "text/html": "<div>\n<style scoped>\n    .dataframe tbody tr th:only-of-type {\n        vertical-align: middle;\n    }\n\n    .dataframe tbody tr th {\n        vertical-align: top;\n    }\n\n    .dataframe thead th {\n        text-align: right;\n    }\n</style>\n<table border=\"1\" class=\"dataframe\">\n  <thead>\n    <tr style=\"text-align: right;\">\n      <th></th>\n      <th>id</th>\n      <th>url</th>\n      <th>itunes_id</th>\n      <th>original_url</th>\n      <th>newest_item_pubdate</th>\n      <th>oldest_item_pubdate</th>\n      <th>language</th>\n    </tr>\n  </thead>\n  <tbody>\n    <tr>\n      <th>9</th>\n      <td>10</td>\n      <td>https://sportsfromherperspective.podomatic.com...</td>\n      <td>1.000083e+09</td>\n      <td>http://sportsfromherperspective.podomatic.com/...</td>\n      <td>2020-09-29 02:51:04</td>\n      <td>2015-05-27 03:42:29</td>\n      <td>en-us</td>\n    </tr>\n    <tr>\n      <th>12</th>\n      <td>13</td>\n      <td>https://nocturniarecords.podomatic.com/rss2.xml</td>\n      <td>NaN</td>\n      <td>http://nocturniarecords.podomatic.com/rss2.xml</td>\n      <td>2015-07-02 10:49:12</td>\n      <td>2015-06-02 21:05:44</td>\n      <td>en-us</td>\n    </tr>\n    <tr>\n      <th>19</th>\n      <td>20</td>\n      <td>https://hillaryandjason.podomatic.com/rss2.xml</td>\n      <td>NaN</td>\n      <td>http://hillaryandjason.podomatic.com/rss2.xml</td>\n      <td>2015-08-21 04:07:46</td>\n      <td>2015-05-29 03:38:16</td>\n      <td>en-us</td>\n    </tr>\n    <tr>\n      <th>22</th>\n      <td>23</td>\n      <td>https://www.corechurchtampa.com/messages?forma...</td>\n      <td>NaN</td>\n      <td>http://corechurchtampa.com/corechurchtampa.rss</td>\n      <td>2020-08-24 20:15:46</td>\n      <td>2020-08-03 00:33:00</td>\n      <td>en</td>\n    </tr>\n    <tr>\n      <th>25</th>\n      <td>26</td>\n      <td>https://lutheryoung.podomatic.com/rss2.xml</td>\n      <td>1.000119e+09</td>\n      <td>http://lutheryoung.podomatic.com/rss2.xml</td>\n      <td>2015-05-30 04:19:53</td>\n      <td>2015-05-30 04:19:53</td>\n      <td>en-us</td>\n    </tr>\n    <tr>\n      <th>...</th>\n      <td>...</td>\n      <td>...</td>\n      <td>...</td>\n      <td>...</td>\n      <td>...</td>\n      <td>...</td>\n      <td>...</td>\n    </tr>\n    <tr>\n      <th>1375308</th>\n      <td>1375430</td>\n      <td>https://feeds.captivate.fm/bounty-board/</td>\n      <td>NaN</td>\n      <td>https://feeds.captivate.fm/bounty-board</td>\n      <td>2021-01-30 19:00:00</td>\n      <td>2017-06-08 22:00:00</td>\n      <td>en</td>\n    </tr>\n    <tr>\n      <th>1375309</th>\n      <td>1375431</td>\n      <td>https://feeds.captivate.fm/the-brothers-f/</td>\n      <td>NaN</td>\n      <td>https://feeds.captivate.fm/the-brothers-f</td>\n      <td>2021-02-01 08:00:00</td>\n      <td>2021-02-01 08:00:00</td>\n      <td>en</td>\n    </tr>\n    <tr>\n      <th>1375313</th>\n      <td>1375435</td>\n      <td>https://feeds.captivate.fm/heyolesya/</td>\n      <td>NaN</td>\n      <td>https://feeds.captivate.fm/heyolesya</td>\n      <td>2021-02-01 20:25:00</td>\n      <td>2021-02-01 20:25:00</td>\n      <td>en</td>\n    </tr>\n    <tr>\n      <th>1375334</th>\n      <td>1375456</td>\n      <td>https://feeds.captivate.fm/how-to-manager/</td>\n      <td>NaN</td>\n      <td>https://feeds.captivate.fm/how-to-manager</td>\n      <td>2021-02-01 22:36:00</td>\n      <td>2021-02-01 22:36:00</td>\n      <td>en</td>\n    </tr>\n    <tr>\n      <th>1375336</th>\n      <td>1375458</td>\n      <td>https://feeds.captivate.fm/the-huemanity-stand...</td>\n      <td>NaN</td>\n      <td>https://feeds.captivate.fm/the-huemanity-standard</td>\n      <td>2021-02-01 23:00:00</td>\n      <td>2021-02-01 23:00:00</td>\n      <td>en</td>\n    </tr>\n  </tbody>\n</table>\n<p>45669 rows × 7 columns</p>\n</div>"
     },
     "metadata": {},
     "execution_count": 28
    }
   ],
   "source": [
    "filt =  df['url'] != df['original_url']\n",
    "\n",
    "df[filt]"
   ]
  }
 ]
}