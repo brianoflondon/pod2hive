{
 "metadata": {
  "language_info": {
   "codemirror_mode": {
    "name": "ipython",
    "version": 3
   },
   "file_extension": ".py",
   "mimetype": "text/x-python",
   "name": "python",
   "nbconvert_exporter": "python",
   "pygments_lexer": "ipython3",
   "version": "3.8.6-final"
  },
  "orig_nbformat": 2,
  "kernelspec": {
   "name": "python3",
   "display_name": "Python 3",
   "language": "python"
  }
 },
 "nbformat": 4,
 "nbformat_minor": 2,
 "cells": [
  {
   "cell_type": "code",
   "execution_count": 5,
   "metadata": {},
   "outputs": [],
   "source": [
    "%config IPCompleter.use_jedi = False"
   ]
  },
  {
   "cell_type": "code",
   "execution_count": 26,
   "metadata": {},
   "outputs": [],
   "source": [
    "import pandas as pd\n",
    "import plotly.express as px\n"
   ]
  },
  {
   "cell_type": "code",
   "execution_count": 9,
   "metadata": {},
   "outputs": [
    {
     "output_type": "execute_result",
     "data": {
      "text/plain": [
       "              id                                                url  \\\n",
       "0              1            https://markalanwilliams.libsyn.com/rss   \n",
       "1              2           https://anchor.fm/s/19ccb320/podcast/rss   \n",
       "2              3                 http://www.snec.org.uk/site/itunes   \n",
       "3              4  http://feeds.soundcloud.com/users/soundcloud:u...   \n",
       "4              5         https://audioboom.com/channels/4597972.rss   \n",
       "...          ...                                                ...   \n",
       "1375334  1375456         https://feeds.captivate.fm/how-to-manager/   \n",
       "1375335  1375457           https://feeds.buzzsprout.com/1661431.rss   \n",
       "1375336  1375458  https://feeds.captivate.fm/the-huemanity-stand...   \n",
       "1375337  1375459           https://feeds.buzzsprout.com/1640590.rss   \n",
       "1375338  1375460           https://feeds.buzzsprout.com/1658281.rss   \n",
       "\n",
       "            itunes_id                                       original_url  \\\n",
       "0        1.000001e+09            https://markalanwilliams.libsyn.com/rss   \n",
       "1        1.000016e+09           https://anchor.fm/s/19ccb320/podcast/rss   \n",
       "2        1.000017e+09                 http://www.snec.org.uk/site/itunes   \n",
       "3        1.000036e+09  http://feeds.soundcloud.com/users/soundcloud:u...   \n",
       "4        1.000036e+09         https://audioboom.com/channels/4597972.rss   \n",
       "...               ...                                                ...   \n",
       "1375334           NaN          https://feeds.captivate.fm/how-to-manager   \n",
       "1375335           NaN           https://feeds.buzzsprout.com/1661431.rss   \n",
       "1375336           NaN  https://feeds.captivate.fm/the-huemanity-standard   \n",
       "1375337           NaN           https://feeds.buzzsprout.com/1640590.rss   \n",
       "1375338           NaN           https://feeds.buzzsprout.com/1658281.rss   \n",
       "\n",
       "        newest_item_pubdate oldest_item_pubdate language  \n",
       "0       2021-01-09 21:13:35 2015-05-28 18:25:32       en  \n",
       "1       2021-01-08 23:47:52 2015-05-31 03:00:00       en  \n",
       "2       2020-03-15 18:30:00 2019-03-31 18:30:00    en-gb  \n",
       "3       2015-05-29 21:33:14 2015-05-22 23:33:24       en  \n",
       "4       2016-05-10 22:33:14 2015-04-08 22:26:52       es  \n",
       "...                     ...                 ...      ...  \n",
       "1375334 2021-02-01 22:36:00 2021-02-01 22:36:00       en  \n",
       "1375335 2021-01-31 18:20:34 2021-01-18 00:16:41       en  \n",
       "1375336 2021-02-01 23:00:00 2021-02-01 23:00:00       en  \n",
       "1375337 2021-01-14 22:51:09 2021-01-14 22:51:09       en  \n",
       "1375338 2021-02-01 16:00:00 2021-02-01 16:00:00    en-us  \n",
       "\n",
       "[1375339 rows x 7 columns]"
      ],
      "text/html": "<div>\n<style scoped>\n    .dataframe tbody tr th:only-of-type {\n        vertical-align: middle;\n    }\n\n    .dataframe tbody tr th {\n        vertical-align: top;\n    }\n\n    .dataframe thead th {\n        text-align: right;\n    }\n</style>\n<table border=\"1\" class=\"dataframe\">\n  <thead>\n    <tr style=\"text-align: right;\">\n      <th></th>\n      <th>id</th>\n      <th>url</th>\n      <th>itunes_id</th>\n      <th>original_url</th>\n      <th>newest_item_pubdate</th>\n      <th>oldest_item_pubdate</th>\n      <th>language</th>\n    </tr>\n  </thead>\n  <tbody>\n    <tr>\n      <th>0</th>\n      <td>1</td>\n      <td>https://markalanwilliams.libsyn.com/rss</td>\n      <td>1.000001e+09</td>\n      <td>https://markalanwilliams.libsyn.com/rss</td>\n      <td>2021-01-09 21:13:35</td>\n      <td>2015-05-28 18:25:32</td>\n      <td>en</td>\n    </tr>\n    <tr>\n      <th>1</th>\n      <td>2</td>\n      <td>https://anchor.fm/s/19ccb320/podcast/rss</td>\n      <td>1.000016e+09</td>\n      <td>https://anchor.fm/s/19ccb320/podcast/rss</td>\n      <td>2021-01-08 23:47:52</td>\n      <td>2015-05-31 03:00:00</td>\n      <td>en</td>\n    </tr>\n    <tr>\n      <th>2</th>\n      <td>3</td>\n      <td>http://www.snec.org.uk/site/itunes</td>\n      <td>1.000017e+09</td>\n      <td>http://www.snec.org.uk/site/itunes</td>\n      <td>2020-03-15 18:30:00</td>\n      <td>2019-03-31 18:30:00</td>\n      <td>en-gb</td>\n    </tr>\n    <tr>\n      <th>3</th>\n      <td>4</td>\n      <td>http://feeds.soundcloud.com/users/soundcloud:u...</td>\n      <td>1.000036e+09</td>\n      <td>http://feeds.soundcloud.com/users/soundcloud:u...</td>\n      <td>2015-05-29 21:33:14</td>\n      <td>2015-05-22 23:33:24</td>\n      <td>en</td>\n    </tr>\n    <tr>\n      <th>4</th>\n      <td>5</td>\n      <td>https://audioboom.com/channels/4597972.rss</td>\n      <td>1.000036e+09</td>\n      <td>https://audioboom.com/channels/4597972.rss</td>\n      <td>2016-05-10 22:33:14</td>\n      <td>2015-04-08 22:26:52</td>\n      <td>es</td>\n    </tr>\n    <tr>\n      <th>...</th>\n      <td>...</td>\n      <td>...</td>\n      <td>...</td>\n      <td>...</td>\n      <td>...</td>\n      <td>...</td>\n      <td>...</td>\n    </tr>\n    <tr>\n      <th>1375334</th>\n      <td>1375456</td>\n      <td>https://feeds.captivate.fm/how-to-manager/</td>\n      <td>NaN</td>\n      <td>https://feeds.captivate.fm/how-to-manager</td>\n      <td>2021-02-01 22:36:00</td>\n      <td>2021-02-01 22:36:00</td>\n      <td>en</td>\n    </tr>\n    <tr>\n      <th>1375335</th>\n      <td>1375457</td>\n      <td>https://feeds.buzzsprout.com/1661431.rss</td>\n      <td>NaN</td>\n      <td>https://feeds.buzzsprout.com/1661431.rss</td>\n      <td>2021-01-31 18:20:34</td>\n      <td>2021-01-18 00:16:41</td>\n      <td>en</td>\n    </tr>\n    <tr>\n      <th>1375336</th>\n      <td>1375458</td>\n      <td>https://feeds.captivate.fm/the-huemanity-stand...</td>\n      <td>NaN</td>\n      <td>https://feeds.captivate.fm/the-huemanity-standard</td>\n      <td>2021-02-01 23:00:00</td>\n      <td>2021-02-01 23:00:00</td>\n      <td>en</td>\n    </tr>\n    <tr>\n      <th>1375337</th>\n      <td>1375459</td>\n      <td>https://feeds.buzzsprout.com/1640590.rss</td>\n      <td>NaN</td>\n      <td>https://feeds.buzzsprout.com/1640590.rss</td>\n      <td>2021-01-14 22:51:09</td>\n      <td>2021-01-14 22:51:09</td>\n      <td>en</td>\n    </tr>\n    <tr>\n      <th>1375338</th>\n      <td>1375460</td>\n      <td>https://feeds.buzzsprout.com/1658281.rss</td>\n      <td>NaN</td>\n      <td>https://feeds.buzzsprout.com/1658281.rss</td>\n      <td>2021-02-01 16:00:00</td>\n      <td>2021-02-01 16:00:00</td>\n      <td>en-us</td>\n    </tr>\n  </tbody>\n</table>\n<p>1375339 rows × 7 columns</p>\n</div>"
     },
     "metadata": {},
     "execution_count": 9
    }
   ],
   "source": [
    "df = pd.read_csv('/Users/gbishko/Downloads/podcasts-2021-02-01.csv')\n",
    "df['newest_item_pubdate'] = pd.to_datetime(df['newest_item_pubdate'],unit='s')\n",
    "df['oldest_item_pubdate'] = pd.to_datetime(df['oldest_item_pubdate'],unit='s')\n",
    "df"
   ]
  },
  {
   "cell_type": "code",
   "execution_count": 10,
   "metadata": {},
   "outputs": [
    {
     "output_type": "execute_result",
     "data": {
      "text/plain": [
       "Empty DataFrame\n",
       "Columns: [id, url, itunes_id, original_url, newest_item_pubdate, oldest_item_pubdate, language]\n",
       "Index: []"
      ],
      "text/html": "<div>\n<style scoped>\n    .dataframe tbody tr th:only-of-type {\n        vertical-align: middle;\n    }\n\n    .dataframe tbody tr th {\n        vertical-align: top;\n    }\n\n    .dataframe thead th {\n        text-align: right;\n    }\n</style>\n<table border=\"1\" class=\"dataframe\">\n  <thead>\n    <tr style=\"text-align: right;\">\n      <th></th>\n      <th>id</th>\n      <th>url</th>\n      <th>itunes_id</th>\n      <th>original_url</th>\n      <th>newest_item_pubdate</th>\n      <th>oldest_item_pubdate</th>\n      <th>language</th>\n    </tr>\n  </thead>\n  <tbody>\n  </tbody>\n</table>\n</div>"
     },
     "metadata": {},
     "execution_count": 10
    }
   ],
   "source": [
    "df[df.url.str.contains('curry.com',case=False)]"
   ]
  },
  {
   "cell_type": "code",
   "execution_count": 11,
   "metadata": {},
   "outputs": [
    {
     "output_type": "execute_result",
     "data": {
      "text/plain": [
       "              id                                                url  \\\n",
       "9             10  https://sportsfromherperspective.podomatic.com...   \n",
       "12            13    https://nocturniarecords.podomatic.com/rss2.xml   \n",
       "19            20     https://hillaryandjason.podomatic.com/rss2.xml   \n",
       "22            23  https://www.corechurchtampa.com/messages?forma...   \n",
       "25            26         https://lutheryoung.podomatic.com/rss2.xml   \n",
       "...          ...                                                ...   \n",
       "1375308  1375430           https://feeds.captivate.fm/bounty-board/   \n",
       "1375309  1375431         https://feeds.captivate.fm/the-brothers-f/   \n",
       "1375313  1375435              https://feeds.captivate.fm/heyolesya/   \n",
       "1375334  1375456         https://feeds.captivate.fm/how-to-manager/   \n",
       "1375336  1375458  https://feeds.captivate.fm/the-huemanity-stand...   \n",
       "\n",
       "            itunes_id                                       original_url  \\\n",
       "9        1.000083e+09  http://sportsfromherperspective.podomatic.com/...   \n",
       "12                NaN     http://nocturniarecords.podomatic.com/rss2.xml   \n",
       "19                NaN      http://hillaryandjason.podomatic.com/rss2.xml   \n",
       "22                NaN     http://corechurchtampa.com/corechurchtampa.rss   \n",
       "25       1.000119e+09          http://lutheryoung.podomatic.com/rss2.xml   \n",
       "...               ...                                                ...   \n",
       "1375308           NaN            https://feeds.captivate.fm/bounty-board   \n",
       "1375309           NaN          https://feeds.captivate.fm/the-brothers-f   \n",
       "1375313           NaN               https://feeds.captivate.fm/heyolesya   \n",
       "1375334           NaN          https://feeds.captivate.fm/how-to-manager   \n",
       "1375336           NaN  https://feeds.captivate.fm/the-huemanity-standard   \n",
       "\n",
       "        newest_item_pubdate oldest_item_pubdate language  \n",
       "9       2020-09-29 02:51:04 2015-05-27 03:42:29    en-us  \n",
       "12      2015-07-02 10:49:12 2015-06-02 21:05:44    en-us  \n",
       "19      2015-08-21 04:07:46 2015-05-29 03:38:16    en-us  \n",
       "22      2020-08-24 20:15:46 2020-08-03 00:33:00       en  \n",
       "25      2015-05-30 04:19:53 2015-05-30 04:19:53    en-us  \n",
       "...                     ...                 ...      ...  \n",
       "1375308 2021-01-30 19:00:00 2017-06-08 22:00:00       en  \n",
       "1375309 2021-02-01 08:00:00 2021-02-01 08:00:00       en  \n",
       "1375313 2021-02-01 20:25:00 2021-02-01 20:25:00       en  \n",
       "1375334 2021-02-01 22:36:00 2021-02-01 22:36:00       en  \n",
       "1375336 2021-02-01 23:00:00 2021-02-01 23:00:00       en  \n",
       "\n",
       "[45669 rows x 7 columns]"
      ],
      "text/html": "<div>\n<style scoped>\n    .dataframe tbody tr th:only-of-type {\n        vertical-align: middle;\n    }\n\n    .dataframe tbody tr th {\n        vertical-align: top;\n    }\n\n    .dataframe thead th {\n        text-align: right;\n    }\n</style>\n<table border=\"1\" class=\"dataframe\">\n  <thead>\n    <tr style=\"text-align: right;\">\n      <th></th>\n      <th>id</th>\n      <th>url</th>\n      <th>itunes_id</th>\n      <th>original_url</th>\n      <th>newest_item_pubdate</th>\n      <th>oldest_item_pubdate</th>\n      <th>language</th>\n    </tr>\n  </thead>\n  <tbody>\n    <tr>\n      <th>9</th>\n      <td>10</td>\n      <td>https://sportsfromherperspective.podomatic.com...</td>\n      <td>1.000083e+09</td>\n      <td>http://sportsfromherperspective.podomatic.com/...</td>\n      <td>2020-09-29 02:51:04</td>\n      <td>2015-05-27 03:42:29</td>\n      <td>en-us</td>\n    </tr>\n    <tr>\n      <th>12</th>\n      <td>13</td>\n      <td>https://nocturniarecords.podomatic.com/rss2.xml</td>\n      <td>NaN</td>\n      <td>http://nocturniarecords.podomatic.com/rss2.xml</td>\n      <td>2015-07-02 10:49:12</td>\n      <td>2015-06-02 21:05:44</td>\n      <td>en-us</td>\n    </tr>\n    <tr>\n      <th>19</th>\n      <td>20</td>\n      <td>https://hillaryandjason.podomatic.com/rss2.xml</td>\n      <td>NaN</td>\n      <td>http://hillaryandjason.podomatic.com/rss2.xml</td>\n      <td>2015-08-21 04:07:46</td>\n      <td>2015-05-29 03:38:16</td>\n      <td>en-us</td>\n    </tr>\n    <tr>\n      <th>22</th>\n      <td>23</td>\n      <td>https://www.corechurchtampa.com/messages?forma...</td>\n      <td>NaN</td>\n      <td>http://corechurchtampa.com/corechurchtampa.rss</td>\n      <td>2020-08-24 20:15:46</td>\n      <td>2020-08-03 00:33:00</td>\n      <td>en</td>\n    </tr>\n    <tr>\n      <th>25</th>\n      <td>26</td>\n      <td>https://lutheryoung.podomatic.com/rss2.xml</td>\n      <td>1.000119e+09</td>\n      <td>http://lutheryoung.podomatic.com/rss2.xml</td>\n      <td>2015-05-30 04:19:53</td>\n      <td>2015-05-30 04:19:53</td>\n      <td>en-us</td>\n    </tr>\n    <tr>\n      <th>...</th>\n      <td>...</td>\n      <td>...</td>\n      <td>...</td>\n      <td>...</td>\n      <td>...</td>\n      <td>...</td>\n      <td>...</td>\n    </tr>\n    <tr>\n      <th>1375308</th>\n      <td>1375430</td>\n      <td>https://feeds.captivate.fm/bounty-board/</td>\n      <td>NaN</td>\n      <td>https://feeds.captivate.fm/bounty-board</td>\n      <td>2021-01-30 19:00:00</td>\n      <td>2017-06-08 22:00:00</td>\n      <td>en</td>\n    </tr>\n    <tr>\n      <th>1375309</th>\n      <td>1375431</td>\n      <td>https://feeds.captivate.fm/the-brothers-f/</td>\n      <td>NaN</td>\n      <td>https://feeds.captivate.fm/the-brothers-f</td>\n      <td>2021-02-01 08:00:00</td>\n      <td>2021-02-01 08:00:00</td>\n      <td>en</td>\n    </tr>\n    <tr>\n      <th>1375313</th>\n      <td>1375435</td>\n      <td>https://feeds.captivate.fm/heyolesya/</td>\n      <td>NaN</td>\n      <td>https://feeds.captivate.fm/heyolesya</td>\n      <td>2021-02-01 20:25:00</td>\n      <td>2021-02-01 20:25:00</td>\n      <td>en</td>\n    </tr>\n    <tr>\n      <th>1375334</th>\n      <td>1375456</td>\n      <td>https://feeds.captivate.fm/how-to-manager/</td>\n      <td>NaN</td>\n      <td>https://feeds.captivate.fm/how-to-manager</td>\n      <td>2021-02-01 22:36:00</td>\n      <td>2021-02-01 22:36:00</td>\n      <td>en</td>\n    </tr>\n    <tr>\n      <th>1375336</th>\n      <td>1375458</td>\n      <td>https://feeds.captivate.fm/the-huemanity-stand...</td>\n      <td>NaN</td>\n      <td>https://feeds.captivate.fm/the-huemanity-standard</td>\n      <td>2021-02-01 23:00:00</td>\n      <td>2021-02-01 23:00:00</td>\n      <td>en</td>\n    </tr>\n  </tbody>\n</table>\n<p>45669 rows × 7 columns</p>\n</div>"
     },
     "metadata": {},
     "execution_count": 11
    }
   ],
   "source": [
    "filt =  df['url'] != df['original_url']\n",
    "\n",
    "df[filt]"
   ]
  },
  {
   "cell_type": "code",
   "execution_count": 21,
   "metadata": {},
   "outputs": [
    {
     "output_type": "execute_result",
     "data": {
      "text/plain": [
       "count   1375339.00000\n",
       "mean         45.82860\n",
       "std          14.37502\n",
       "min          15.00000\n",
       "25%          39.00000\n",
       "50%          40.00000\n",
       "75%          48.00000\n",
       "max         452.00000\n",
       "Name: url, dtype: float64"
      ]
     },
     "metadata": {},
     "execution_count": 21
    }
   ],
   "source": [
    "pd.set_option('display.float_format', lambda x: '%.5f' % x)\n",
    "df.url.str.len().describe()\n",
    "\n"
   ]
  },
  {
   "cell_type": "code",
   "execution_count": 24,
   "metadata": {},
   "outputs": [
    {
     "output_type": "execute_result",
     "data": {
      "text/plain": [
       "0          39\n",
       "1          40\n",
       "2          34\n",
       "3          71\n",
       "4          42\n",
       "           ..\n",
       "1375334    42\n",
       "1375335    40\n",
       "1375336    50\n",
       "1375337    40\n",
       "1375338    40\n",
       "Name: url_len, Length: 1375339, dtype: int64"
      ]
     },
     "metadata": {},
     "execution_count": 24
    }
   ],
   "source": [
    "df['url_len'] = df.url.str.len()\n",
    "df.url_len\n"
   ]
  },
  {
   "cell_type": "code",
   "execution_count": 48,
   "metadata": {},
   "outputs": [
    {
     "output_type": "execute_result",
     "data": {
      "text/plain": [
       "[0,\n",
       " 1,\n",
       " 2,\n",
       " 3,\n",
       " 4,\n",
       " 5,\n",
       " 6,\n",
       " 7,\n",
       " 8,\n",
       " 9,\n",
       " 10,\n",
       " 11,\n",
       " 12,\n",
       " 13,\n",
       " 14,\n",
       " 15,\n",
       " 16,\n",
       " 17,\n",
       " 18,\n",
       " 19,\n",
       " 20,\n",
       " 21,\n",
       " 22,\n",
       " 23,\n",
       " 24,\n",
       " 25,\n",
       " 26,\n",
       " 27,\n",
       " 28,\n",
       " 29,\n",
       " 30,\n",
       " 31,\n",
       " 32,\n",
       " 33,\n",
       " 34,\n",
       " 35,\n",
       " 36,\n",
       " 37,\n",
       " 38,\n",
       " 39,\n",
       " 40,\n",
       " 41,\n",
       " 42,\n",
       " 43,\n",
       " 44,\n",
       " 45,\n",
       " 46,\n",
       " 47,\n",
       " 48,\n",
       " 49,\n",
       " 50,\n",
       " 51,\n",
       " 52,\n",
       " 53,\n",
       " 54,\n",
       " 55,\n",
       " 56,\n",
       " 57,\n",
       " 58,\n",
       " 59,\n",
       " 100,\n",
       " 450]"
      ]
     },
     "metadata": {},
     "execution_count": 48
    }
   ],
   "source": [
    "bins = list(range(60))\n",
    "bins.append(100)\n",
    "# bins.append(150)\n",
    "# bins.append(300)\n",
    "bins.append(450)\n",
    "bins"
   ]
  },
  {
   "cell_type": "code",
   "execution_count": 47,
   "metadata": {},
   "outputs": [
    {
     "output_type": "execute_result",
     "data": {
      "text/plain": [
       "array([[<AxesSubplot:title={'center':'url_len'}>]], dtype=object)"
      ]
     },
     "metadata": {},
     "execution_count": 47
    },
    {
     "output_type": "display_data",
     "data": {
      "text/plain": "<Figure size 432x288 with 1 Axes>",
      "image/svg+xml": "<?xml version=\"1.0\" encoding=\"utf-8\" standalone=\"no\"?>\n<!DOCTYPE svg PUBLIC \"-//W3C//DTD SVG 1.1//EN\"\n  \"http://www.w3.org/Graphics/SVG/1.1/DTD/svg11.dtd\">\n<!-- Created with matplotlib (https://matplotlib.org/) -->\n<svg height=\"263.63625pt\" version=\"1.1\" viewBox=\"0 0 394.375 263.63625\" width=\"394.375pt\" xmlns=\"http://www.w3.org/2000/svg\" xmlns:xlink=\"http://www.w3.org/1999/xlink\">\n <metadata>\n  <rdf:RDF xmlns:cc=\"http://creativecommons.org/ns#\" xmlns:dc=\"http://purl.org/dc/elements/1.1/\" xmlns:rdf=\"http://www.w3.org/1999/02/22-rdf-syntax-ns#\">\n   <cc:Work>\n    <dc:type rdf:resource=\"http://purl.org/dc/dcmitype/StillImage\"/>\n    <dc:date>2021-02-10T10:49:30.388787</dc:date>\n    <dc:format>image/svg+xml</dc:format>\n    <dc:creator>\n     <cc:Agent>\n      <dc:title>Matplotlib v3.3.1, https://matplotlib.org/</dc:title>\n     </cc:Agent>\n    </dc:creator>\n   </cc:Work>\n  </rdf:RDF>\n </metadata>\n <defs>\n  <style type=\"text/css\">*{stroke-linecap:butt;stroke-linejoin:round;}</style>\n </defs>\n <g id=\"figure_1\">\n  <g id=\"patch_1\">\n   <path d=\"M 0 263.63625 \nL 394.375 263.63625 \nL 394.375 0 \nL 0 0 \nz\n\" style=\"fill:none;\"/>\n  </g>\n  <g id=\"axes_1\">\n   <g id=\"patch_2\">\n    <path d=\"M 52.375 239.758125 \nL 387.175 239.758125 \nL 387.175 22.318125 \nL 52.375 22.318125 \nz\n\" style=\"fill:#ffffff;\"/>\n   </g>\n   <g id=\"patch_3\">\n    <path clip-path=\"url(#p87152cc7fc)\" d=\"M 67.593182 239.758125 \nL 68.269545 239.758125 \nL 68.269545 239.758125 \nL 67.593182 239.758125 \nz\n\" style=\"fill:#1f77b4;\"/>\n   </g>\n   <g id=\"patch_4\">\n    <path clip-path=\"url(#p87152cc7fc)\" d=\"M 68.269545 239.758125 \nL 68.945909 239.758125 \nL 68.945909 239.758125 \nL 68.269545 239.758125 \nz\n\" style=\"fill:#1f77b4;\"/>\n   </g>\n   <g id=\"patch_5\">\n    <path clip-path=\"url(#p87152cc7fc)\" d=\"M 68.945909 239.758125 \nL 69.622273 239.758125 \nL 69.622273 239.758125 \nL 68.945909 239.758125 \nz\n\" style=\"fill:#1f77b4;\"/>\n   </g>\n   <g id=\"patch_6\">\n    <path clip-path=\"url(#p87152cc7fc)\" d=\"M 69.622273 239.758125 \nL 70.298636 239.758125 \nL 70.298636 239.758125 \nL 69.622273 239.758125 \nz\n\" style=\"fill:#1f77b4;\"/>\n   </g>\n   <g id=\"patch_7\">\n    <path clip-path=\"url(#p87152cc7fc)\" d=\"M 70.298636 239.758125 \nL 70.975 239.758125 \nL 70.975 239.758125 \nL 70.298636 239.758125 \nz\n\" style=\"fill:#1f77b4;\"/>\n   </g>\n   <g id=\"patch_8\">\n    <path clip-path=\"url(#p87152cc7fc)\" d=\"M 70.975 239.758125 \nL 71.651364 239.758125 \nL 71.651364 239.758125 \nL 70.975 239.758125 \nz\n\" style=\"fill:#1f77b4;\"/>\n   </g>\n   <g id=\"patch_9\">\n    <path clip-path=\"url(#p87152cc7fc)\" d=\"M 71.651364 239.758125 \nL 72.327727 239.758125 \nL 72.327727 239.758125 \nL 71.651364 239.758125 \nz\n\" style=\"fill:#1f77b4;\"/>\n   </g>\n   <g id=\"patch_10\">\n    <path clip-path=\"url(#p87152cc7fc)\" d=\"M 72.327727 239.758125 \nL 73.004091 239.758125 \nL 73.004091 239.758125 \nL 72.327727 239.758125 \nz\n\" style=\"fill:#1f77b4;\"/>\n   </g>\n   <g id=\"patch_11\">\n    <path clip-path=\"url(#p87152cc7fc)\" d=\"M 73.004091 239.758125 \nL 73.680455 239.758125 \nL 73.680455 239.758125 \nL 73.004091 239.758125 \nz\n\" style=\"fill:#1f77b4;\"/>\n   </g>\n   <g id=\"patch_12\">\n    <path clip-path=\"url(#p87152cc7fc)\" d=\"M 73.680455 239.758125 \nL 74.356818 239.758125 \nL 74.356818 239.758125 \nL 73.680455 239.758125 \nz\n\" style=\"fill:#1f77b4;\"/>\n   </g>\n   <g id=\"patch_13\">\n    <path clip-path=\"url(#p87152cc7fc)\" d=\"M 74.356818 239.758125 \nL 75.033182 239.758125 \nL 75.033182 239.758125 \nL 74.356818 239.758125 \nz\n\" style=\"fill:#1f77b4;\"/>\n   </g>\n   <g id=\"patch_14\">\n    <path clip-path=\"url(#p87152cc7fc)\" d=\"M 75.033182 239.758125 \nL 75.709545 239.758125 \nL 75.709545 239.758125 \nL 75.033182 239.758125 \nz\n\" style=\"fill:#1f77b4;\"/>\n   </g>\n   <g id=\"patch_15\">\n    <path clip-path=\"url(#p87152cc7fc)\" d=\"M 75.709545 239.758125 \nL 76.385909 239.758125 \nL 76.385909 239.758125 \nL 75.709545 239.758125 \nz\n\" style=\"fill:#1f77b4;\"/>\n   </g>\n   <g id=\"patch_16\">\n    <path clip-path=\"url(#p87152cc7fc)\" d=\"M 76.385909 239.758125 \nL 77.062273 239.758125 \nL 77.062273 239.758125 \nL 76.385909 239.758125 \nz\n\" style=\"fill:#1f77b4;\"/>\n   </g>\n   <g id=\"patch_17\">\n    <path clip-path=\"url(#p87152cc7fc)\" d=\"M 77.062273 239.758125 \nL 77.738636 239.758125 \nL 77.738636 239.758125 \nL 77.062273 239.758125 \nz\n\" style=\"fill:#1f77b4;\"/>\n   </g>\n   <g id=\"patch_18\">\n    <path clip-path=\"url(#p87152cc7fc)\" d=\"M 77.738636 239.758125 \nL 78.415 239.758125 \nL 78.415 239.757719 \nL 77.738636 239.757719 \nz\n\" style=\"fill:#1f77b4;\"/>\n   </g>\n   <g id=\"patch_19\">\n    <path clip-path=\"url(#p87152cc7fc)\" d=\"M 78.415 239.758125 \nL 79.091364 239.758125 \nL 79.091364 239.758125 \nL 78.415 239.758125 \nz\n\" style=\"fill:#1f77b4;\"/>\n   </g>\n   <g id=\"patch_20\">\n    <path clip-path=\"url(#p87152cc7fc)\" d=\"M 79.091364 239.758125 \nL 79.767727 239.758125 \nL 79.767727 239.758125 \nL 79.091364 239.758125 \nz\n\" style=\"fill:#1f77b4;\"/>\n   </g>\n   <g id=\"patch_21\">\n    <path clip-path=\"url(#p87152cc7fc)\" d=\"M 79.767727 239.758125 \nL 80.444091 239.758125 \nL 80.444091 239.757719 \nL 79.767727 239.757719 \nz\n\" style=\"fill:#1f77b4;\"/>\n   </g>\n   <g id=\"patch_22\">\n    <path clip-path=\"url(#p87152cc7fc)\" d=\"M 80.444091 239.758125 \nL 81.120455 239.758125 \nL 81.120455 239.756908 \nL 80.444091 239.756908 \nz\n\" style=\"fill:#1f77b4;\"/>\n   </g>\n   <g id=\"patch_23\">\n    <path clip-path=\"url(#p87152cc7fc)\" d=\"M 81.120455 239.758125 \nL 81.796818 239.758125 \nL 81.796818 239.755286 \nL 81.120455 239.755286 \nz\n\" style=\"fill:#1f77b4;\"/>\n   </g>\n   <g id=\"patch_24\">\n    <path clip-path=\"url(#p87152cc7fc)\" d=\"M 81.796818 239.758125 \nL 82.473182 239.758125 \nL 82.473182 239.751637 \nL 81.796818 239.751637 \nz\n\" style=\"fill:#1f77b4;\"/>\n   </g>\n   <g id=\"patch_25\">\n    <path clip-path=\"url(#p87152cc7fc)\" d=\"M 82.473182 239.758125 \nL 83.149545 239.758125 \nL 83.149545 239.743931 \nL 82.473182 239.743931 \nz\n\" style=\"fill:#1f77b4;\"/>\n   </g>\n   <g id=\"patch_26\">\n    <path clip-path=\"url(#p87152cc7fc)\" d=\"M 83.149545 239.758125 \nL 83.825909 239.758125 \nL 83.825909 239.733793 \nL 83.149545 239.733793 \nz\n\" style=\"fill:#1f77b4;\"/>\n   </g>\n   <g id=\"patch_27\">\n    <path clip-path=\"url(#p87152cc7fc)\" d=\"M 83.825909 239.758125 \nL 84.502273 239.758125 \nL 84.502273 239.716761 \nL 83.825909 239.716761 \nz\n\" style=\"fill:#1f77b4;\"/>\n   </g>\n   <g id=\"patch_28\">\n    <path clip-path=\"url(#p87152cc7fc)\" d=\"M 84.502273 239.758125 \nL 85.178636 239.758125 \nL 85.178636 239.677424 \nL 84.502273 239.677424 \nz\n\" style=\"fill:#1f77b4;\"/>\n   </g>\n   <g id=\"patch_29\">\n    <path clip-path=\"url(#p87152cc7fc)\" d=\"M 85.178636 239.758125 \nL 85.855 239.758125 \nL 85.855 239.604834 \nL 85.178636 239.604834 \nz\n\" style=\"fill:#1f77b4;\"/>\n   </g>\n   <g id=\"patch_30\">\n    <path clip-path=\"url(#p87152cc7fc)\" d=\"M 85.855 239.758125 \nL 86.531364 239.758125 \nL 86.531364 239.554143 \nL 85.855 239.554143 \nz\n\" style=\"fill:#1f77b4;\"/>\n   </g>\n   <g id=\"patch_31\">\n    <path clip-path=\"url(#p87152cc7fc)\" d=\"M 86.531364 239.758125 \nL 87.207727 239.758125 \nL 87.207727 238.833108 \nL 86.531364 238.833108 \nz\n\" style=\"fill:#1f77b4;\"/>\n   </g>\n   <g id=\"patch_32\">\n    <path clip-path=\"url(#p87152cc7fc)\" d=\"M 87.207727 239.758125 \nL 87.884091 239.758125 \nL 87.884091 236.714613 \nL 87.207727 236.714613 \nz\n\" style=\"fill:#1f77b4;\"/>\n   </g>\n   <g id=\"patch_33\">\n    <path clip-path=\"url(#p87152cc7fc)\" d=\"M 87.884091 239.758125 \nL 88.560455 239.758125 \nL 88.560455 237.988792 \nL 87.884091 237.988792 \nz\n\" style=\"fill:#1f77b4;\"/>\n   </g>\n   <g id=\"patch_34\">\n    <path clip-path=\"url(#p87152cc7fc)\" d=\"M 88.560455 239.758125 \nL 89.236818 239.758125 \nL 89.236818 238.018396 \nL 88.560455 238.018396 \nz\n\" style=\"fill:#1f77b4;\"/>\n   </g>\n   <g id=\"patch_35\">\n    <path clip-path=\"url(#p87152cc7fc)\" d=\"M 89.236818 239.758125 \nL 89.913182 239.758125 \nL 89.913182 237.421049 \nL 89.236818 237.421049 \nz\n\" style=\"fill:#1f77b4;\"/>\n   </g>\n   <g id=\"patch_36\">\n    <path clip-path=\"url(#p87152cc7fc)\" d=\"M 89.913182 239.758125 \nL 90.589545 239.758125 \nL 90.589545 236.488733 \nL 89.913182 236.488733 \nz\n\" style=\"fill:#1f77b4;\"/>\n   </g>\n   <g id=\"patch_37\">\n    <path clip-path=\"url(#p87152cc7fc)\" d=\"M 90.589545 239.758125 \nL 91.265909 239.758125 \nL 91.265909 234.667087 \nL 90.589545 234.667087 \nz\n\" style=\"fill:#1f77b4;\"/>\n   </g>\n   <g id=\"patch_38\">\n    <path clip-path=\"url(#p87152cc7fc)\" d=\"M 91.265909 239.758125 \nL 91.942273 239.758125 \nL 91.942273 235.007733 \nL 91.265909 235.007733 \nz\n\" style=\"fill:#1f77b4;\"/>\n   </g>\n   <g id=\"patch_39\">\n    <path clip-path=\"url(#p87152cc7fc)\" d=\"M 91.942273 239.758125 \nL 92.618636 239.758125 \nL 92.618636 234.224652 \nL 91.942273 234.224652 \nz\n\" style=\"fill:#1f77b4;\"/>\n   </g>\n   <g id=\"patch_40\">\n    <path clip-path=\"url(#p87152cc7fc)\" d=\"M 92.618636 239.758125 \nL 93.295 239.758125 \nL 93.295 229.097116 \nL 92.618636 229.097116 \nz\n\" style=\"fill:#1f77b4;\"/>\n   </g>\n   <g id=\"patch_41\">\n    <path clip-path=\"url(#p87152cc7fc)\" d=\"M 93.295 239.758125 \nL 93.971364 239.758125 \nL 93.971364 230.515664 \nL 93.295 230.515664 \nz\n\" style=\"fill:#1f77b4;\"/>\n   </g>\n   <g id=\"patch_42\">\n    <path clip-path=\"url(#p87152cc7fc)\" d=\"M 93.971364 239.758125 \nL 94.647727 239.758125 \nL 94.647727 136.185461 \nL 93.971364 136.185461 \nz\n\" style=\"fill:#1f77b4;\"/>\n   </g>\n   <g id=\"patch_43\">\n    <path clip-path=\"url(#p87152cc7fc)\" d=\"M 94.647727 239.758125 \nL 95.324091 239.758125 \nL 95.324091 32.672411 \nL 94.647727 32.672411 \nz\n\" style=\"fill:#1f77b4;\"/>\n   </g>\n   <g id=\"patch_44\">\n    <path clip-path=\"url(#p87152cc7fc)\" d=\"M 95.324091 239.758125 \nL 96.000455 239.758125 \nL 96.000455 230.64219 \nL 95.324091 230.64219 \nz\n\" style=\"fill:#1f77b4;\"/>\n   </g>\n   <g id=\"patch_45\">\n    <path clip-path=\"url(#p87152cc7fc)\" d=\"M 96.000455 239.758125 \nL 96.676818 239.758125 \nL 96.676818 228.565464 \nL 96.000455 228.565464 \nz\n\" style=\"fill:#1f77b4;\"/>\n   </g>\n   <g id=\"patch_46\">\n    <path clip-path=\"url(#p87152cc7fc)\" d=\"M 96.676818 239.758125 \nL 97.353182 239.758125 \nL 97.353182 231.621142 \nL 96.676818 231.621142 \nz\n\" style=\"fill:#1f77b4;\"/>\n   </g>\n   <g id=\"patch_47\">\n    <path clip-path=\"url(#p87152cc7fc)\" d=\"M 97.353182 239.758125 \nL 98.029545 239.758125 \nL 98.029545 231.784976 \nL 97.353182 231.784976 \nz\n\" style=\"fill:#1f77b4;\"/>\n   </g>\n   <g id=\"patch_48\">\n    <path clip-path=\"url(#p87152cc7fc)\" d=\"M 98.029545 239.758125 \nL 98.705909 239.758125 \nL 98.705909 231.602082 \nL 98.029545 231.602082 \nz\n\" style=\"fill:#1f77b4;\"/>\n   </g>\n   <g id=\"patch_49\">\n    <path clip-path=\"url(#p87152cc7fc)\" d=\"M 98.705909 239.758125 \nL 99.382273 239.758125 \nL 99.382273 232.136572 \nL 98.705909 232.136572 \nz\n\" style=\"fill:#1f77b4;\"/>\n   </g>\n   <g id=\"patch_50\">\n    <path clip-path=\"url(#p87152cc7fc)\" d=\"M 99.382273 239.758125 \nL 100.058636 239.758125 \nL 100.058636 233.201902 \nL 99.382273 233.201902 \nz\n\" style=\"fill:#1f77b4;\"/>\n   </g>\n   <g id=\"patch_51\">\n    <path clip-path=\"url(#p87152cc7fc)\" d=\"M 100.058636 239.758125 \nL 100.735 239.758125 \nL 100.735 234.197887 \nL 100.058636 234.197887 \nz\n\" style=\"fill:#1f77b4;\"/>\n   </g>\n   <g id=\"patch_52\">\n    <path clip-path=\"url(#p87152cc7fc)\" d=\"M 100.735 239.758125 \nL 101.411364 239.758125 \nL 101.411364 233.93267 \nL 100.735 233.93267 \nz\n\" style=\"fill:#1f77b4;\"/>\n   </g>\n   <g id=\"patch_53\">\n    <path clip-path=\"url(#p87152cc7fc)\" d=\"M 101.411364 239.758125 \nL 102.087727 239.758125 \nL 102.087727 233.176354 \nL 101.411364 233.176354 \nz\n\" style=\"fill:#1f77b4;\"/>\n   </g>\n   <g id=\"patch_54\">\n    <path clip-path=\"url(#p87152cc7fc)\" d=\"M 102.087727 239.758125 \nL 102.764091 239.758125 \nL 102.764091 215.60996 \nL 102.087727 215.60996 \nz\n\" style=\"fill:#1f77b4;\"/>\n   </g>\n   <g id=\"patch_55\">\n    <path clip-path=\"url(#p87152cc7fc)\" d=\"M 102.764091 239.758125 \nL 103.440455 239.758125 \nL 103.440455 236.061708 \nL 102.764091 236.061708 \nz\n\" style=\"fill:#1f77b4;\"/>\n   </g>\n   <g id=\"patch_56\">\n    <path clip-path=\"url(#p87152cc7fc)\" d=\"M 103.440455 239.758125 \nL 104.116818 239.758125 \nL 104.116818 236.41006 \nL 103.440455 236.41006 \nz\n\" style=\"fill:#1f77b4;\"/>\n   </g>\n   <g id=\"patch_57\">\n    <path clip-path=\"url(#p87152cc7fc)\" d=\"M 104.116818 239.758125 \nL 104.793182 239.758125 \nL 104.793182 236.675277 \nL 104.116818 236.675277 \nz\n\" style=\"fill:#1f77b4;\"/>\n   </g>\n   <g id=\"patch_58\">\n    <path clip-path=\"url(#p87152cc7fc)\" d=\"M 104.793182 239.758125 \nL 105.469545 239.758125 \nL 105.469545 236.837895 \nL 104.793182 236.837895 \nz\n\" style=\"fill:#1f77b4;\"/>\n   </g>\n   <g id=\"patch_59\">\n    <path clip-path=\"url(#p87152cc7fc)\" d=\"M 105.469545 239.758125 \nL 106.145909 239.758125 \nL 106.145909 237.225988 \nL 105.469545 237.225988 \nz\n\" style=\"fill:#1f77b4;\"/>\n   </g>\n   <g id=\"patch_60\">\n    <path clip-path=\"url(#p87152cc7fc)\" d=\"M 106.145909 239.758125 \nL 106.822273 239.758125 \nL 106.822273 237.543925 \nL 106.145909 237.543925 \nz\n\" style=\"fill:#1f77b4;\"/>\n   </g>\n   <g id=\"patch_61\">\n    <path clip-path=\"url(#p87152cc7fc)\" d=\"M 106.822273 239.758125 \nL 107.498636 239.758125 \nL 107.498636 237.738174 \nL 106.822273 237.738174 \nz\n\" style=\"fill:#1f77b4;\"/>\n   </g>\n   <g id=\"patch_62\">\n    <path clip-path=\"url(#p87152cc7fc)\" d=\"M 107.498636 239.758125 \nL 108.175 239.758125 \nL 108.175 236.614447 \nL 107.498636 236.614447 \nz\n\" style=\"fill:#1f77b4;\"/>\n   </g>\n   <g id=\"patch_63\">\n    <path clip-path=\"url(#p87152cc7fc)\" d=\"M 108.175 239.758125 \nL 108.851364 239.758125 \nL 108.851364 237.510671 \nL 108.175 237.510671 \nz\n\" style=\"fill:#1f77b4;\"/>\n   </g>\n   <g id=\"patch_64\">\n    <path clip-path=\"url(#p87152cc7fc)\" d=\"M 108.851364 239.758125 \nL 109.527727 239.758125 \nL 109.527727 236.883314 \nL 108.851364 236.883314 \nz\n\" style=\"fill:#1f77b4;\"/>\n   </g>\n   <g id=\"patch_65\">\n    <path clip-path=\"url(#p87152cc7fc)\" d=\"M 109.527727 239.758125 \nL 110.204091 239.758125 \nL 110.204091 238.372425 \nL 109.527727 238.372425 \nz\n\" style=\"fill:#1f77b4;\"/>\n   </g>\n   <g id=\"patch_66\">\n    <path clip-path=\"url(#p87152cc7fc)\" d=\"M 110.204091 239.758125 \nL 110.880455 239.758125 \nL 110.880455 238.2313 \nL 110.204091 238.2313 \nz\n\" style=\"fill:#1f77b4;\"/>\n   </g>\n   <g id=\"patch_67\">\n    <path clip-path=\"url(#p87152cc7fc)\" d=\"M 110.880455 239.758125 \nL 111.556818 239.758125 \nL 111.556818 237.183408 \nL 110.880455 237.183408 \nz\n\" style=\"fill:#1f77b4;\"/>\n   </g>\n   <g id=\"patch_68\">\n    <path clip-path=\"url(#p87152cc7fc)\" d=\"M 111.556818 239.758125 \nL 112.233182 239.758125 \nL 112.233182 238.520849 \nL 111.556818 238.520849 \nz\n\" style=\"fill:#1f77b4;\"/>\n   </g>\n   <g id=\"patch_69\">\n    <path clip-path=\"url(#p87152cc7fc)\" d=\"M 112.233182 239.758125 \nL 112.909545 239.758125 \nL 112.909545 237.038227 \nL 112.233182 237.038227 \nz\n\" style=\"fill:#1f77b4;\"/>\n   </g>\n   <g id=\"patch_70\">\n    <path clip-path=\"url(#p87152cc7fc)\" d=\"M 112.909545 239.758125 \nL 113.585909 239.758125 \nL 113.585909 238.730509 \nL 112.909545 238.730509 \nz\n\" style=\"fill:#1f77b4;\"/>\n   </g>\n   <g id=\"patch_71\">\n    <path clip-path=\"url(#p87152cc7fc)\" d=\"M 113.585909 239.758125 \nL 114.262273 239.758125 \nL 114.262273 238.647781 \nL 113.585909 238.647781 \nz\n\" style=\"fill:#1f77b4;\"/>\n   </g>\n   <g id=\"patch_72\">\n    <path clip-path=\"url(#p87152cc7fc)\" d=\"M 114.262273 239.758125 \nL 114.938636 239.758125 \nL 114.938636 237.969327 \nL 114.262273 237.969327 \nz\n\" style=\"fill:#1f77b4;\"/>\n   </g>\n   <g id=\"patch_73\">\n    <path clip-path=\"url(#p87152cc7fc)\" d=\"M 114.938636 239.758125 \nL 115.615 239.758125 \nL 115.615 235.371089 \nL 114.938636 235.371089 \nz\n\" style=\"fill:#1f77b4;\"/>\n   </g>\n   <g id=\"patch_74\">\n    <path clip-path=\"url(#p87152cc7fc)\" d=\"M 115.615 239.758125 \nL 116.291364 239.758125 \nL 116.291364 206.457121 \nL 115.615 206.457121 \nz\n\" style=\"fill:#1f77b4;\"/>\n   </g>\n   <g id=\"patch_75\">\n    <path clip-path=\"url(#p87152cc7fc)\" d=\"M 116.291364 239.758125 \nL 116.967727 239.758125 \nL 116.967727 235.045853 \nL 116.291364 235.045853 \nz\n\" style=\"fill:#1f77b4;\"/>\n   </g>\n   <g id=\"patch_76\">\n    <path clip-path=\"url(#p87152cc7fc)\" d=\"M 116.967727 239.758125 \nL 117.644091 239.758125 \nL 117.644091 239.057773 \nL 116.967727 239.057773 \nz\n\" style=\"fill:#1f77b4;\"/>\n   </g>\n   <g id=\"patch_77\">\n    <path clip-path=\"url(#p87152cc7fc)\" d=\"M 117.644091 239.758125 \nL 135.229545 239.758125 \nL 135.229545 231.424459 \nL 117.644091 231.424459 \nz\n\" style=\"fill:#1f77b4;\"/>\n   </g>\n   <g id=\"patch_78\">\n    <path clip-path=\"url(#p87152cc7fc)\" d=\"M 135.229545 239.758125 \nL 371.956818 239.758125 \nL 371.956818 235.319181 \nL 135.229545 235.319181 \nz\n\" style=\"fill:#1f77b4;\"/>\n   </g>\n   <g id=\"matplotlib.axis_1\">\n    <g id=\"xtick_1\">\n     <g id=\"line2d_1\">\n      <path clip-path=\"url(#p87152cc7fc)\" d=\"M 67.593182 239.758125 \nL 67.593182 22.318125 \n\" style=\"fill:none;stroke:#b0b0b0;stroke-linecap:square;stroke-width:0.8;\"/>\n     </g>\n     <g id=\"line2d_2\">\n      <defs>\n       <path d=\"M 0 0 \nL 0 3.5 \n\" id=\"m81d51266c1\" style=\"stroke:#000000;stroke-width:0.8;\"/>\n      </defs>\n      <g>\n       <use style=\"stroke:#000000;stroke-width:0.8;\" x=\"67.593182\" xlink:href=\"#m81d51266c1\" y=\"239.758125\"/>\n      </g>\n     </g>\n     <g id=\"text_1\">\n      <!-- 0 -->\n      <g transform=\"translate(64.411932 254.356563)scale(0.1 -0.1)\">\n       <defs>\n        <path d=\"M 31.78125 66.40625 \nQ 24.171875 66.40625 20.328125 58.90625 \nQ 16.5 51.421875 16.5 36.375 \nQ 16.5 21.390625 20.328125 13.890625 \nQ 24.171875 6.390625 31.78125 6.390625 \nQ 39.453125 6.390625 43.28125 13.890625 \nQ 47.125 21.390625 47.125 36.375 \nQ 47.125 51.421875 43.28125 58.90625 \nQ 39.453125 66.40625 31.78125 66.40625 \nz\nM 31.78125 74.21875 \nQ 44.046875 74.21875 50.515625 64.515625 \nQ 56.984375 54.828125 56.984375 36.375 \nQ 56.984375 17.96875 50.515625 8.265625 \nQ 44.046875 -1.421875 31.78125 -1.421875 \nQ 19.53125 -1.421875 13.0625 8.265625 \nQ 6.59375 17.96875 6.59375 36.375 \nQ 6.59375 54.828125 13.0625 64.515625 \nQ 19.53125 74.21875 31.78125 74.21875 \nz\n\" id=\"DejaVuSans-48\"/>\n       </defs>\n       <use xlink:href=\"#DejaVuSans-48\"/>\n      </g>\n     </g>\n    </g>\n    <g id=\"xtick_2\">\n     <g id=\"line2d_3\">\n      <path clip-path=\"url(#p87152cc7fc)\" d=\"M 135.229545 239.758125 \nL 135.229545 22.318125 \n\" style=\"fill:none;stroke:#b0b0b0;stroke-linecap:square;stroke-width:0.8;\"/>\n     </g>\n     <g id=\"line2d_4\">\n      <g>\n       <use style=\"stroke:#000000;stroke-width:0.8;\" x=\"135.229545\" xlink:href=\"#m81d51266c1\" y=\"239.758125\"/>\n      </g>\n     </g>\n     <g id=\"text_2\">\n      <!-- 100 -->\n      <g transform=\"translate(125.685795 254.356563)scale(0.1 -0.1)\">\n       <defs>\n        <path d=\"M 12.40625 8.296875 \nL 28.515625 8.296875 \nL 28.515625 63.921875 \nL 10.984375 60.40625 \nL 10.984375 69.390625 \nL 28.421875 72.90625 \nL 38.28125 72.90625 \nL 38.28125 8.296875 \nL 54.390625 8.296875 \nL 54.390625 0 \nL 12.40625 0 \nz\n\" id=\"DejaVuSans-49\"/>\n       </defs>\n       <use xlink:href=\"#DejaVuSans-49\"/>\n       <use x=\"63.623047\" xlink:href=\"#DejaVuSans-48\"/>\n       <use x=\"127.246094\" xlink:href=\"#DejaVuSans-48\"/>\n      </g>\n     </g>\n    </g>\n    <g id=\"xtick_3\">\n     <g id=\"line2d_5\">\n      <path clip-path=\"url(#p87152cc7fc)\" d=\"M 202.865909 239.758125 \nL 202.865909 22.318125 \n\" style=\"fill:none;stroke:#b0b0b0;stroke-linecap:square;stroke-width:0.8;\"/>\n     </g>\n     <g id=\"line2d_6\">\n      <g>\n       <use style=\"stroke:#000000;stroke-width:0.8;\" x=\"202.865909\" xlink:href=\"#m81d51266c1\" y=\"239.758125\"/>\n      </g>\n     </g>\n     <g id=\"text_3\">\n      <!-- 200 -->\n      <g transform=\"translate(193.322159 254.356563)scale(0.1 -0.1)\">\n       <defs>\n        <path d=\"M 19.1875 8.296875 \nL 53.609375 8.296875 \nL 53.609375 0 \nL 7.328125 0 \nL 7.328125 8.296875 \nQ 12.9375 14.109375 22.625 23.890625 \nQ 32.328125 33.6875 34.8125 36.53125 \nQ 39.546875 41.84375 41.421875 45.53125 \nQ 43.3125 49.21875 43.3125 52.78125 \nQ 43.3125 58.59375 39.234375 62.25 \nQ 35.15625 65.921875 28.609375 65.921875 \nQ 23.96875 65.921875 18.8125 64.3125 \nQ 13.671875 62.703125 7.8125 59.421875 \nL 7.8125 69.390625 \nQ 13.765625 71.78125 18.9375 73 \nQ 24.125 74.21875 28.421875 74.21875 \nQ 39.75 74.21875 46.484375 68.546875 \nQ 53.21875 62.890625 53.21875 53.421875 \nQ 53.21875 48.921875 51.53125 44.890625 \nQ 49.859375 40.875 45.40625 35.40625 \nQ 44.1875 33.984375 37.640625 27.21875 \nQ 31.109375 20.453125 19.1875 8.296875 \nz\n\" id=\"DejaVuSans-50\"/>\n       </defs>\n       <use xlink:href=\"#DejaVuSans-50\"/>\n       <use x=\"63.623047\" xlink:href=\"#DejaVuSans-48\"/>\n       <use x=\"127.246094\" xlink:href=\"#DejaVuSans-48\"/>\n      </g>\n     </g>\n    </g>\n    <g id=\"xtick_4\">\n     <g id=\"line2d_7\">\n      <path clip-path=\"url(#p87152cc7fc)\" d=\"M 270.502273 239.758125 \nL 270.502273 22.318125 \n\" style=\"fill:none;stroke:#b0b0b0;stroke-linecap:square;stroke-width:0.8;\"/>\n     </g>\n     <g id=\"line2d_8\">\n      <g>\n       <use style=\"stroke:#000000;stroke-width:0.8;\" x=\"270.502273\" xlink:href=\"#m81d51266c1\" y=\"239.758125\"/>\n      </g>\n     </g>\n     <g id=\"text_4\">\n      <!-- 300 -->\n      <g transform=\"translate(260.958523 254.356563)scale(0.1 -0.1)\">\n       <defs>\n        <path d=\"M 40.578125 39.3125 \nQ 47.65625 37.796875 51.625 33 \nQ 55.609375 28.21875 55.609375 21.1875 \nQ 55.609375 10.40625 48.1875 4.484375 \nQ 40.765625 -1.421875 27.09375 -1.421875 \nQ 22.515625 -1.421875 17.65625 -0.515625 \nQ 12.796875 0.390625 7.625 2.203125 \nL 7.625 11.71875 \nQ 11.71875 9.328125 16.59375 8.109375 \nQ 21.484375 6.890625 26.8125 6.890625 \nQ 36.078125 6.890625 40.9375 10.546875 \nQ 45.796875 14.203125 45.796875 21.1875 \nQ 45.796875 27.640625 41.28125 31.265625 \nQ 36.765625 34.90625 28.71875 34.90625 \nL 20.21875 34.90625 \nL 20.21875 43.015625 \nL 29.109375 43.015625 \nQ 36.375 43.015625 40.234375 45.921875 \nQ 44.09375 48.828125 44.09375 54.296875 \nQ 44.09375 59.90625 40.109375 62.90625 \nQ 36.140625 65.921875 28.71875 65.921875 \nQ 24.65625 65.921875 20.015625 65.03125 \nQ 15.375 64.15625 9.8125 62.3125 \nL 9.8125 71.09375 \nQ 15.4375 72.65625 20.34375 73.4375 \nQ 25.25 74.21875 29.59375 74.21875 \nQ 40.828125 74.21875 47.359375 69.109375 \nQ 53.90625 64.015625 53.90625 55.328125 \nQ 53.90625 49.265625 50.4375 45.09375 \nQ 46.96875 40.921875 40.578125 39.3125 \nz\n\" id=\"DejaVuSans-51\"/>\n       </defs>\n       <use xlink:href=\"#DejaVuSans-51\"/>\n       <use x=\"63.623047\" xlink:href=\"#DejaVuSans-48\"/>\n       <use x=\"127.246094\" xlink:href=\"#DejaVuSans-48\"/>\n      </g>\n     </g>\n    </g>\n    <g id=\"xtick_5\">\n     <g id=\"line2d_9\">\n      <path clip-path=\"url(#p87152cc7fc)\" d=\"M 338.138636 239.758125 \nL 338.138636 22.318125 \n\" style=\"fill:none;stroke:#b0b0b0;stroke-linecap:square;stroke-width:0.8;\"/>\n     </g>\n     <g id=\"line2d_10\">\n      <g>\n       <use style=\"stroke:#000000;stroke-width:0.8;\" x=\"338.138636\" xlink:href=\"#m81d51266c1\" y=\"239.758125\"/>\n      </g>\n     </g>\n     <g id=\"text_5\">\n      <!-- 400 -->\n      <g transform=\"translate(328.594886 254.356563)scale(0.1 -0.1)\">\n       <defs>\n        <path d=\"M 37.796875 64.3125 \nL 12.890625 25.390625 \nL 37.796875 25.390625 \nz\nM 35.203125 72.90625 \nL 47.609375 72.90625 \nL 47.609375 25.390625 \nL 58.015625 25.390625 \nL 58.015625 17.1875 \nL 47.609375 17.1875 \nL 47.609375 0 \nL 37.796875 0 \nL 37.796875 17.1875 \nL 4.890625 17.1875 \nL 4.890625 26.703125 \nz\n\" id=\"DejaVuSans-52\"/>\n       </defs>\n       <use xlink:href=\"#DejaVuSans-52\"/>\n       <use x=\"63.623047\" xlink:href=\"#DejaVuSans-48\"/>\n       <use x=\"127.246094\" xlink:href=\"#DejaVuSans-48\"/>\n      </g>\n     </g>\n    </g>\n   </g>\n   <g id=\"matplotlib.axis_2\">\n    <g id=\"ytick_1\">\n     <g id=\"line2d_11\">\n      <path clip-path=\"url(#p87152cc7fc)\" d=\"M 52.375 239.758125 \nL 387.175 239.758125 \n\" style=\"fill:none;stroke:#b0b0b0;stroke-linecap:square;stroke-width:0.8;\"/>\n     </g>\n     <g id=\"line2d_12\">\n      <defs>\n       <path d=\"M 0 0 \nL -3.5 0 \n\" id=\"maa49d75ad6\" style=\"stroke:#000000;stroke-width:0.8;\"/>\n      </defs>\n      <g>\n       <use style=\"stroke:#000000;stroke-width:0.8;\" x=\"52.375\" xlink:href=\"#maa49d75ad6\" y=\"239.758125\"/>\n      </g>\n     </g>\n     <g id=\"text_6\">\n      <!-- 0 -->\n      <g transform=\"translate(39.0125 243.557344)scale(0.1 -0.1)\">\n       <use xlink:href=\"#DejaVuSans-48\"/>\n      </g>\n     </g>\n    </g>\n    <g id=\"ytick_2\">\n     <g id=\"line2d_13\">\n      <path clip-path=\"url(#p87152cc7fc)\" d=\"M 52.375 199.205007 \nL 387.175 199.205007 \n\" style=\"fill:none;stroke:#b0b0b0;stroke-linecap:square;stroke-width:0.8;\"/>\n     </g>\n     <g id=\"line2d_14\">\n      <g>\n       <use style=\"stroke:#000000;stroke-width:0.8;\" x=\"52.375\" xlink:href=\"#maa49d75ad6\" y=\"199.205007\"/>\n      </g>\n     </g>\n     <g id=\"text_7\">\n      <!-- 100000 -->\n      <g transform=\"translate(7.2 203.004226)scale(0.1 -0.1)\">\n       <use xlink:href=\"#DejaVuSans-49\"/>\n       <use x=\"63.623047\" xlink:href=\"#DejaVuSans-48\"/>\n       <use x=\"127.246094\" xlink:href=\"#DejaVuSans-48\"/>\n       <use x=\"190.869141\" xlink:href=\"#DejaVuSans-48\"/>\n       <use x=\"254.492188\" xlink:href=\"#DejaVuSans-48\"/>\n       <use x=\"318.115234\" xlink:href=\"#DejaVuSans-48\"/>\n      </g>\n     </g>\n    </g>\n    <g id=\"ytick_3\">\n     <g id=\"line2d_15\">\n      <path clip-path=\"url(#p87152cc7fc)\" d=\"M 52.375 158.651889 \nL 387.175 158.651889 \n\" style=\"fill:none;stroke:#b0b0b0;stroke-linecap:square;stroke-width:0.8;\"/>\n     </g>\n     <g id=\"line2d_16\">\n      <g>\n       <use style=\"stroke:#000000;stroke-width:0.8;\" x=\"52.375\" xlink:href=\"#maa49d75ad6\" y=\"158.651889\"/>\n      </g>\n     </g>\n     <g id=\"text_8\">\n      <!-- 200000 -->\n      <g transform=\"translate(7.2 162.451108)scale(0.1 -0.1)\">\n       <use xlink:href=\"#DejaVuSans-50\"/>\n       <use x=\"63.623047\" xlink:href=\"#DejaVuSans-48\"/>\n       <use x=\"127.246094\" xlink:href=\"#DejaVuSans-48\"/>\n       <use x=\"190.869141\" xlink:href=\"#DejaVuSans-48\"/>\n       <use x=\"254.492188\" xlink:href=\"#DejaVuSans-48\"/>\n       <use x=\"318.115234\" xlink:href=\"#DejaVuSans-48\"/>\n      </g>\n     </g>\n    </g>\n    <g id=\"ytick_4\">\n     <g id=\"line2d_17\">\n      <path clip-path=\"url(#p87152cc7fc)\" d=\"M 52.375 118.098771 \nL 387.175 118.098771 \n\" style=\"fill:none;stroke:#b0b0b0;stroke-linecap:square;stroke-width:0.8;\"/>\n     </g>\n     <g id=\"line2d_18\">\n      <g>\n       <use style=\"stroke:#000000;stroke-width:0.8;\" x=\"52.375\" xlink:href=\"#maa49d75ad6\" y=\"118.098771\"/>\n      </g>\n     </g>\n     <g id=\"text_9\">\n      <!-- 300000 -->\n      <g transform=\"translate(7.2 121.897989)scale(0.1 -0.1)\">\n       <use xlink:href=\"#DejaVuSans-51\"/>\n       <use x=\"63.623047\" xlink:href=\"#DejaVuSans-48\"/>\n       <use x=\"127.246094\" xlink:href=\"#DejaVuSans-48\"/>\n       <use x=\"190.869141\" xlink:href=\"#DejaVuSans-48\"/>\n       <use x=\"254.492188\" xlink:href=\"#DejaVuSans-48\"/>\n       <use x=\"318.115234\" xlink:href=\"#DejaVuSans-48\"/>\n      </g>\n     </g>\n    </g>\n    <g id=\"ytick_5\">\n     <g id=\"line2d_19\">\n      <path clip-path=\"url(#p87152cc7fc)\" d=\"M 52.375 77.545653 \nL 387.175 77.545653 \n\" style=\"fill:none;stroke:#b0b0b0;stroke-linecap:square;stroke-width:0.8;\"/>\n     </g>\n     <g id=\"line2d_20\">\n      <g>\n       <use style=\"stroke:#000000;stroke-width:0.8;\" x=\"52.375\" xlink:href=\"#maa49d75ad6\" y=\"77.545653\"/>\n      </g>\n     </g>\n     <g id=\"text_10\">\n      <!-- 400000 -->\n      <g transform=\"translate(7.2 81.344871)scale(0.1 -0.1)\">\n       <use xlink:href=\"#DejaVuSans-52\"/>\n       <use x=\"63.623047\" xlink:href=\"#DejaVuSans-48\"/>\n       <use x=\"127.246094\" xlink:href=\"#DejaVuSans-48\"/>\n       <use x=\"190.869141\" xlink:href=\"#DejaVuSans-48\"/>\n       <use x=\"254.492188\" xlink:href=\"#DejaVuSans-48\"/>\n       <use x=\"318.115234\" xlink:href=\"#DejaVuSans-48\"/>\n      </g>\n     </g>\n    </g>\n    <g id=\"ytick_6\">\n     <g id=\"line2d_21\">\n      <path clip-path=\"url(#p87152cc7fc)\" d=\"M 52.375 36.992534 \nL 387.175 36.992534 \n\" style=\"fill:none;stroke:#b0b0b0;stroke-linecap:square;stroke-width:0.8;\"/>\n     </g>\n     <g id=\"line2d_22\">\n      <g>\n       <use style=\"stroke:#000000;stroke-width:0.8;\" x=\"52.375\" xlink:href=\"#maa49d75ad6\" y=\"36.992534\"/>\n      </g>\n     </g>\n     <g id=\"text_11\">\n      <!-- 500000 -->\n      <g transform=\"translate(7.2 40.791753)scale(0.1 -0.1)\">\n       <defs>\n        <path d=\"M 10.796875 72.90625 \nL 49.515625 72.90625 \nL 49.515625 64.59375 \nL 19.828125 64.59375 \nL 19.828125 46.734375 \nQ 21.96875 47.46875 24.109375 47.828125 \nQ 26.265625 48.1875 28.421875 48.1875 \nQ 40.625 48.1875 47.75 41.5 \nQ 54.890625 34.8125 54.890625 23.390625 \nQ 54.890625 11.625 47.5625 5.09375 \nQ 40.234375 -1.421875 26.90625 -1.421875 \nQ 22.3125 -1.421875 17.546875 -0.640625 \nQ 12.796875 0.140625 7.71875 1.703125 \nL 7.71875 11.625 \nQ 12.109375 9.234375 16.796875 8.0625 \nQ 21.484375 6.890625 26.703125 6.890625 \nQ 35.15625 6.890625 40.078125 11.328125 \nQ 45.015625 15.765625 45.015625 23.390625 \nQ 45.015625 31 40.078125 35.4375 \nQ 35.15625 39.890625 26.703125 39.890625 \nQ 22.75 39.890625 18.8125 39.015625 \nQ 14.890625 38.140625 10.796875 36.28125 \nz\n\" id=\"DejaVuSans-53\"/>\n       </defs>\n       <use xlink:href=\"#DejaVuSans-53\"/>\n       <use x=\"63.623047\" xlink:href=\"#DejaVuSans-48\"/>\n       <use x=\"127.246094\" xlink:href=\"#DejaVuSans-48\"/>\n       <use x=\"190.869141\" xlink:href=\"#DejaVuSans-48\"/>\n       <use x=\"254.492188\" xlink:href=\"#DejaVuSans-48\"/>\n       <use x=\"318.115234\" xlink:href=\"#DejaVuSans-48\"/>\n      </g>\n     </g>\n    </g>\n   </g>\n   <g id=\"patch_79\">\n    <path d=\"M 52.375 239.758125 \nL 52.375 22.318125 \n\" style=\"fill:none;stroke:#000000;stroke-linecap:square;stroke-linejoin:miter;stroke-width:0.8;\"/>\n   </g>\n   <g id=\"patch_80\">\n    <path d=\"M 387.175 239.758125 \nL 387.175 22.318125 \n\" style=\"fill:none;stroke:#000000;stroke-linecap:square;stroke-linejoin:miter;stroke-width:0.8;\"/>\n   </g>\n   <g id=\"patch_81\">\n    <path d=\"M 52.375 239.758125 \nL 387.175 239.758125 \n\" style=\"fill:none;stroke:#000000;stroke-linecap:square;stroke-linejoin:miter;stroke-width:0.8;\"/>\n   </g>\n   <g id=\"patch_82\">\n    <path d=\"M 52.375 22.318125 \nL 387.175 22.318125 \n\" style=\"fill:none;stroke:#000000;stroke-linecap:square;stroke-linejoin:miter;stroke-width:0.8;\"/>\n   </g>\n   <g id=\"text_12\">\n    <!-- url_len -->\n    <g transform=\"translate(199.677813 16.318125)scale(0.12 -0.12)\">\n     <defs>\n      <path d=\"M 8.5 21.578125 \nL 8.5 54.6875 \nL 17.484375 54.6875 \nL 17.484375 21.921875 \nQ 17.484375 14.15625 20.5 10.265625 \nQ 23.53125 6.390625 29.59375 6.390625 \nQ 36.859375 6.390625 41.078125 11.03125 \nQ 45.3125 15.671875 45.3125 23.6875 \nL 45.3125 54.6875 \nL 54.296875 54.6875 \nL 54.296875 0 \nL 45.3125 0 \nL 45.3125 8.40625 \nQ 42.046875 3.421875 37.71875 1 \nQ 33.40625 -1.421875 27.6875 -1.421875 \nQ 18.265625 -1.421875 13.375 4.4375 \nQ 8.5 10.296875 8.5 21.578125 \nz\nM 31.109375 56 \nz\n\" id=\"DejaVuSans-117\"/>\n      <path d=\"M 41.109375 46.296875 \nQ 39.59375 47.171875 37.8125 47.578125 \nQ 36.03125 48 33.890625 48 \nQ 26.265625 48 22.1875 43.046875 \nQ 18.109375 38.09375 18.109375 28.8125 \nL 18.109375 0 \nL 9.078125 0 \nL 9.078125 54.6875 \nL 18.109375 54.6875 \nL 18.109375 46.1875 \nQ 20.953125 51.171875 25.484375 53.578125 \nQ 30.03125 56 36.53125 56 \nQ 37.453125 56 38.578125 55.875 \nQ 39.703125 55.765625 41.0625 55.515625 \nz\n\" id=\"DejaVuSans-114\"/>\n      <path d=\"M 9.421875 75.984375 \nL 18.40625 75.984375 \nL 18.40625 0 \nL 9.421875 0 \nz\n\" id=\"DejaVuSans-108\"/>\n      <path d=\"M 50.984375 -16.609375 \nL 50.984375 -23.578125 \nL -0.984375 -23.578125 \nL -0.984375 -16.609375 \nz\n\" id=\"DejaVuSans-95\"/>\n      <path d=\"M 56.203125 29.59375 \nL 56.203125 25.203125 \nL 14.890625 25.203125 \nQ 15.484375 15.921875 20.484375 11.0625 \nQ 25.484375 6.203125 34.421875 6.203125 \nQ 39.59375 6.203125 44.453125 7.46875 \nQ 49.3125 8.734375 54.109375 11.28125 \nL 54.109375 2.78125 \nQ 49.265625 0.734375 44.1875 -0.34375 \nQ 39.109375 -1.421875 33.890625 -1.421875 \nQ 20.796875 -1.421875 13.15625 6.1875 \nQ 5.515625 13.8125 5.515625 26.8125 \nQ 5.515625 40.234375 12.765625 48.109375 \nQ 20.015625 56 32.328125 56 \nQ 43.359375 56 49.78125 48.890625 \nQ 56.203125 41.796875 56.203125 29.59375 \nz\nM 47.21875 32.234375 \nQ 47.125 39.59375 43.09375 43.984375 \nQ 39.0625 48.390625 32.421875 48.390625 \nQ 24.90625 48.390625 20.390625 44.140625 \nQ 15.875 39.890625 15.1875 32.171875 \nz\n\" id=\"DejaVuSans-101\"/>\n      <path d=\"M 54.890625 33.015625 \nL 54.890625 0 \nL 45.90625 0 \nL 45.90625 32.71875 \nQ 45.90625 40.484375 42.875 44.328125 \nQ 39.84375 48.1875 33.796875 48.1875 \nQ 26.515625 48.1875 22.3125 43.546875 \nQ 18.109375 38.921875 18.109375 30.90625 \nL 18.109375 0 \nL 9.078125 0 \nL 9.078125 54.6875 \nL 18.109375 54.6875 \nL 18.109375 46.1875 \nQ 21.34375 51.125 25.703125 53.5625 \nQ 30.078125 56 35.796875 56 \nQ 45.21875 56 50.046875 50.171875 \nQ 54.890625 44.34375 54.890625 33.015625 \nz\n\" id=\"DejaVuSans-110\"/>\n     </defs>\n     <use xlink:href=\"#DejaVuSans-117\"/>\n     <use x=\"63.378906\" xlink:href=\"#DejaVuSans-114\"/>\n     <use x=\"104.492188\" xlink:href=\"#DejaVuSans-108\"/>\n     <use x=\"132.275391\" xlink:href=\"#DejaVuSans-95\"/>\n     <use x=\"182.275391\" xlink:href=\"#DejaVuSans-108\"/>\n     <use x=\"210.058594\" xlink:href=\"#DejaVuSans-101\"/>\n     <use x=\"271.582031\" xlink:href=\"#DejaVuSans-110\"/>\n    </g>\n   </g>\n  </g>\n </g>\n <defs>\n  <clipPath id=\"p87152cc7fc\">\n   <rect height=\"217.44\" width=\"334.8\" x=\"52.375\" y=\"22.318125\"/>\n  </clipPath>\n </defs>\n</svg>\n",
      "image/png": "[encoded data removed]"
     },
     "metadata": {
      "needs_background": "light"
     }
    }
   ],
   "source": [
    "df.hist('url_len', bins=bins)"
   ]
  },
  {
   "cell_type": "code",
   "execution_count": 29,
   "metadata": {},
   "outputs": [
    {
     "output_type": "error",
     "ename": "ValueError",
     "evalue": "Value of 'y' is not the name of a column in 'data_frame'. Expected one of ['id', 'url', 'itunes_id', 'original_url', 'newest_item_pubdate', 'oldest_item_pubdate', 'language', 'url_len'] but received: 1375339",
     "traceback": [
      "\u001b[0;31m---------------------------------------------------------------------------\u001b[0m",
      "\u001b[0;31mValueError\u001b[0m                                Traceback (most recent call last)",
      "\u001b[0;32m<ipython-input-29-b2858035e92e>\u001b[0m in \u001b[0;36m<module>\u001b[0;34m\u001b[0m\n\u001b[0;32m----> 1\u001b[0;31m \u001b[0mfig\u001b[0m \u001b[0;34m=\u001b[0m \u001b[0mpx\u001b[0m\u001b[0;34m.\u001b[0m\u001b[0mbar\u001b[0m\u001b[0;34m(\u001b[0m\u001b[0mdf\u001b[0m\u001b[0;34m,\u001b[0m \u001b[0mx\u001b[0m\u001b[0;34m=\u001b[0m\u001b[0mrange\u001b[0m\u001b[0;34m(\u001b[0m\u001b[0;36m1\u001b[0m\u001b[0;34m,\u001b[0m\u001b[0;36m100\u001b[0m\u001b[0;34m)\u001b[0m\u001b[0;34m,\u001b[0m \u001b[0my\u001b[0m\u001b[0;34m=\u001b[0m\u001b[0mdf\u001b[0m\u001b[0;34m.\u001b[0m\u001b[0murl\u001b[0m\u001b[0;34m.\u001b[0m\u001b[0mcount\u001b[0m\u001b[0;34m(\u001b[0m\u001b[0;34m)\u001b[0m\u001b[0;34m)\u001b[0m\u001b[0;34m\u001b[0m\u001b[0;34m\u001b[0m\u001b[0m\n\u001b[0m\u001b[1;32m      2\u001b[0m \u001b[0mfig\u001b[0m\u001b[0;34m.\u001b[0m\u001b[0mshow\u001b[0m\u001b[0;34m(\u001b[0m\u001b[0;34m)\u001b[0m\u001b[0;34m\u001b[0m\u001b[0;34m\u001b[0m\u001b[0m\n",
      "\u001b[0;32m~/opt/anaconda3/envs/my_crypto/lib/python3.8/site-packages/plotly/express/_chart_types.py\u001b[0m in \u001b[0;36mbar\u001b[0;34m(data_frame, x, y, color, facet_row, facet_col, facet_col_wrap, facet_row_spacing, facet_col_spacing, hover_name, hover_data, custom_data, text, base, error_x, error_x_minus, error_y, error_y_minus, animation_frame, animation_group, category_orders, labels, color_discrete_sequence, color_discrete_map, color_continuous_scale, range_color, color_continuous_midpoint, opacity, orientation, barmode, log_x, log_y, range_x, range_y, title, template, width, height)\u001b[0m\n\u001b[1;32m    348\u001b[0m     \u001b[0mmark\u001b[0m\u001b[0;34m.\u001b[0m\u001b[0;34m\u001b[0m\u001b[0;34m\u001b[0m\u001b[0m\n\u001b[1;32m    349\u001b[0m     \"\"\"\n\u001b[0;32m--> 350\u001b[0;31m     return make_figure(\n\u001b[0m\u001b[1;32m    351\u001b[0m         \u001b[0margs\u001b[0m\u001b[0;34m=\u001b[0m\u001b[0mlocals\u001b[0m\u001b[0;34m(\u001b[0m\u001b[0;34m)\u001b[0m\u001b[0;34m,\u001b[0m\u001b[0;34m\u001b[0m\u001b[0;34m\u001b[0m\u001b[0m\n\u001b[1;32m    352\u001b[0m         \u001b[0mconstructor\u001b[0m\u001b[0;34m=\u001b[0m\u001b[0mgo\u001b[0m\u001b[0;34m.\u001b[0m\u001b[0mBar\u001b[0m\u001b[0;34m,\u001b[0m\u001b[0;34m\u001b[0m\u001b[0;34m\u001b[0m\u001b[0m\n",
      "\u001b[0;32m~/opt/anaconda3/envs/my_crypto/lib/python3.8/site-packages/plotly/express/_core.py\u001b[0m in \u001b[0;36mmake_figure\u001b[0;34m(args, constructor, trace_patch, layout_patch)\u001b[0m\n\u001b[1;32m   1824\u001b[0m     \u001b[0mapply_default_cascade\u001b[0m\u001b[0;34m(\u001b[0m\u001b[0margs\u001b[0m\u001b[0;34m)\u001b[0m\u001b[0;34m\u001b[0m\u001b[0;34m\u001b[0m\u001b[0m\n\u001b[1;32m   1825\u001b[0m \u001b[0;34m\u001b[0m\u001b[0m\n\u001b[0;32m-> 1826\u001b[0;31m     \u001b[0margs\u001b[0m \u001b[0;34m=\u001b[0m \u001b[0mbuild_dataframe\u001b[0m\u001b[0;34m(\u001b[0m\u001b[0margs\u001b[0m\u001b[0;34m,\u001b[0m \u001b[0mconstructor\u001b[0m\u001b[0;34m)\u001b[0m\u001b[0;34m\u001b[0m\u001b[0;34m\u001b[0m\u001b[0m\n\u001b[0m\u001b[1;32m   1827\u001b[0m     \u001b[0;32mif\u001b[0m \u001b[0mconstructor\u001b[0m \u001b[0;32min\u001b[0m \u001b[0;34m[\u001b[0m\u001b[0mgo\u001b[0m\u001b[0;34m.\u001b[0m\u001b[0mTreemap\u001b[0m\u001b[0;34m,\u001b[0m \u001b[0mgo\u001b[0m\u001b[0;34m.\u001b[0m\u001b[0mSunburst\u001b[0m\u001b[0;34m]\u001b[0m \u001b[0;32mand\u001b[0m \u001b[0margs\u001b[0m\u001b[0;34m[\u001b[0m\u001b[0;34m\"path\"\u001b[0m\u001b[0;34m]\u001b[0m \u001b[0;32mis\u001b[0m \u001b[0;32mnot\u001b[0m \u001b[0;32mNone\u001b[0m\u001b[0;34m:\u001b[0m\u001b[0;34m\u001b[0m\u001b[0;34m\u001b[0m\u001b[0m\n\u001b[1;32m   1828\u001b[0m         \u001b[0margs\u001b[0m \u001b[0;34m=\u001b[0m \u001b[0mprocess_dataframe_hierarchy\u001b[0m\u001b[0;34m(\u001b[0m\u001b[0margs\u001b[0m\u001b[0;34m)\u001b[0m\u001b[0;34m\u001b[0m\u001b[0;34m\u001b[0m\u001b[0m\n",
      "\u001b[0;32m~/opt/anaconda3/envs/my_crypto/lib/python3.8/site-packages/plotly/express/_core.py\u001b[0m in \u001b[0;36mbuild_dataframe\u001b[0;34m(args, constructor)\u001b[0m\n\u001b[1;32m   1356\u001b[0m     \u001b[0;31m# now that things have been prepped, we do the systematic rewriting of `args`\u001b[0m\u001b[0;34m\u001b[0m\u001b[0;34m\u001b[0m\u001b[0;34m\u001b[0m\u001b[0m\n\u001b[1;32m   1357\u001b[0m \u001b[0;34m\u001b[0m\u001b[0m\n\u001b[0;32m-> 1358\u001b[0;31m     df_output, wide_id_vars = process_args_into_dataframe(\n\u001b[0m\u001b[1;32m   1359\u001b[0m         \u001b[0margs\u001b[0m\u001b[0;34m,\u001b[0m \u001b[0mwide_mode\u001b[0m\u001b[0;34m,\u001b[0m \u001b[0mvar_name\u001b[0m\u001b[0;34m,\u001b[0m \u001b[0mvalue_name\u001b[0m\u001b[0;34m\u001b[0m\u001b[0;34m\u001b[0m\u001b[0m\n\u001b[1;32m   1360\u001b[0m     )\n",
      "\u001b[0;32m~/opt/anaconda3/envs/my_crypto/lib/python3.8/site-packages/plotly/express/_core.py\u001b[0m in \u001b[0;36mprocess_args_into_dataframe\u001b[0;34m(args, wide_mode, var_name, value_name)\u001b[0m\n\u001b[1;32m   1162\u001b[0m                         \u001b[0;32mif\u001b[0m \u001b[0margument\u001b[0m \u001b[0;34m==\u001b[0m \u001b[0;34m\"index\"\u001b[0m\u001b[0;34m:\u001b[0m\u001b[0;34m\u001b[0m\u001b[0;34m\u001b[0m\u001b[0m\n\u001b[1;32m   1163\u001b[0m                             \u001b[0merr_msg\u001b[0m \u001b[0;34m+=\u001b[0m \u001b[0;34m\"\\n To use the index, pass it in directly as `df.index`.\"\u001b[0m\u001b[0;34m\u001b[0m\u001b[0;34m\u001b[0m\u001b[0m\n\u001b[0;32m-> 1164\u001b[0;31m                         \u001b[0;32mraise\u001b[0m \u001b[0mValueError\u001b[0m\u001b[0;34m(\u001b[0m\u001b[0merr_msg\u001b[0m\u001b[0;34m)\u001b[0m\u001b[0;34m\u001b[0m\u001b[0;34m\u001b[0m\u001b[0m\n\u001b[0m\u001b[1;32m   1165\u001b[0m                 \u001b[0;32melif\u001b[0m \u001b[0mlength\u001b[0m \u001b[0;32mand\u001b[0m \u001b[0mlen\u001b[0m\u001b[0;34m(\u001b[0m\u001b[0mdf_input\u001b[0m\u001b[0;34m[\u001b[0m\u001b[0margument\u001b[0m\u001b[0;34m]\u001b[0m\u001b[0;34m)\u001b[0m \u001b[0;34m!=\u001b[0m \u001b[0mlength\u001b[0m\u001b[0;34m:\u001b[0m\u001b[0;34m\u001b[0m\u001b[0;34m\u001b[0m\u001b[0m\n\u001b[1;32m   1166\u001b[0m                     raise ValueError(\n",
      "\u001b[0;31mValueError\u001b[0m: Value of 'y' is not the name of a column in 'data_frame'. Expected one of ['id', 'url', 'itunes_id', 'original_url', 'newest_item_pubdate', 'oldest_item_pubdate', 'language', 'url_len'] but received: 1375339"
     ]
    }
   ],
   "source": [
    "fig = px.bar(dfbar, x=range(1,100), y=df.url.count())\n",
    "fig.show()"
   ]
  }
 ]
}